{
 "metadata": {
  "name": "",
  "signature": "sha256:e721d5c37266147d428a47f80cdb416e80ecfdd13c1083f76463d235adce60bc"
 },
 "nbformat": 3,
 "nbformat_minor": 0,
 "worksheets": [
  {
   "cells": [
    {
     "cell_type": "markdown",
     "metadata": {},
     "source": [
      "# Tutorial 4 - Meta-analysis\n",
      "\n",
      "This tutorial assumes you have completed tutorials 1 through 3 already.\n",
      "\n",
      "This tutorial starts to show the real power of Brightway2, and in particular the ability to script and analyze many LCA calculations.\n",
      "\n",
      "At the end of this tutorial, you should:\n",
      "\n",
      "* Be able to make many LCA calculations\n",
      "* Use `multiprocessing` to utilize the full power of your computer\n",
      "* Store calculations results in `numpy` arrays, for analysis and interpretation\n",
      "* Use matplotlib to display results graphically\n",
      "\n",
      "If you finish the tutorial, you get another kitten!\n",
      "\n",
      "You should **download this notebook** and run it cell by cell - don't just read it on the web!"
     ]
    },
    {
     "cell_type": "markdown",
     "metadata": {},
     "source": [
      "## Brightway 2 tutorials\n",
      "\n",
      "Please read the tutorials in order, as they build upon each other.\n",
      "\n",
      "* [1 - Getting Started](http://nbviewer.ipython.org/urls/bitbucket.org/cmutel/brightway2/raw/default/docs/notebooks/Tutorial 1 - Getting Started.ipynb)\n",
      "* [2 - Working with data](http://nbviewer.ipython.org/urls/bitbucket.org/cmutel/brightway2/raw/default/docs/notebooks/Tutorial 2 - Working with data.ipynb)\n",
      "* [2a - Using bw2simple to make life easier](http://nbviewer.ipython.org/urls/bitbucket.org/cmutel/brightway2/raw/default/docs/notebooks/Tutorial 2a - Using bw2simple to make life easier.ipynb)\n",
      "* [3 - Basic LCA Calculations](http://nbviewer.ipython.org/urls/bitbucket.org/cmutel/brightway2/raw/default/docs/notebooks/Tutorial%201%20-%20Getting%20Started.ipynb)\n",
      "* [4 - Meta-analysis](http://nbviewer.ipython.org/urls/bitbucket.org/cmutel/brightway2/raw/default/docs/notebooks/Tutorial 4 - Meta-analysis.ipynb)\n",
      "* [5 - Defining A New Matrix](http://nbviewer.ipython.org/urls/bitbucket.org/cmutel/brightway2/raw/default/docs/notebooks/Tutorial%205%20-%20Defining%20A%20New%20Matrix.ipynb)"
     ]
    },
    {
     "cell_type": "markdown",
     "metadata": {},
     "source": [
      "## IPython Notebook\n",
      "\n",
      "This tutorial is written in an IPython Notebook, an online scientific notebook which combines, text, data, images, and programming. It is amazing, and could be a fantastic way to do and communicate advanced LCA work. See the [documentation](http://ipython.org/ipython-doc/dev/interactive/htmlnotebook.html) and a list of [awesome examples](https://github.com/ipython/ipython/wiki/A-gallery-of-interesting-IPython-Notebooks)."
     ]
    },
    {
     "cell_type": "markdown",
     "metadata": {},
     "source": [
      "Before getting started, we need to set our directory as in the [first tutorial](http://nbviewer.ipython.org/urls/bitbucket.org/cmutel/brightway2/raw/default/docs/notebooks/Tutorial%201%20-%20Getting%20Started.ipynb)."
     ]
    },
    {
     "cell_type": "code",
     "collapsed": false,
     "input": [
      "BRIGHTWAY2_DIR = \"/Users/cmutel/Projects/Brightway2/tutorials/bw2\""
     ],
     "language": "python",
     "metadata": {},
     "outputs": []
    },
    {
     "cell_type": "code",
     "collapsed": false,
     "input": [
      "from brightway2 import *\n",
      "set_data_dir(BRIGHTWAY2_DIR, permanent=False)"
     ],
     "language": "python",
     "metadata": {},
     "outputs": [],
     "prompt_number": 1
    },
    {
     "cell_type": "markdown",
     "metadata": {},
     "source": [
      "Let's start by picking some LCIA methods to analyze - we don't want to use all the available ones, as many are specific to just a few biosphere flows, and it wouldn't make sense to compare these methods to other methods."
     ]
    },
    {
     "cell_type": "code",
     "collapsed": false,
     "input": [
      "CANDIDATES = [\n",
      " (u'CML 2001', u'acidification potential', u'average European'),\n",
      " (u'CML 2001', u'climate change', u'GWP 100a'),\n",
      " (u'CML 2001', u'eutrophication potential', u'average European'),\n",
      " (u'CML 2001', u'freshwater aquatic ecotoxicity', u'FAETP 100a'),\n",
      " (u'CML 2001', u'human toxicity', u'HTP 100a'),\n",
      " (u'CML 2001', u'land use', u'competition'),\n",
      " (u'CML 2001', u'marine aquatic ecotoxicity', u'MAETP infinite'),\n",
      " (u'CML 2001', u'resources', u'depletion of abiotic resources'),\n",
      " (u'CML 2001', u'stratospheric ozone depletion', u'ODP 25a'),\n",
      " (u'EDIP2003', u'ecotoxicity', u'in sewage treatment plants'),\n",
      " (u'EDIP2003', u'eutrophication', u'terrestrial eutrophication'),\n",
      " (u'EDIP2003', u'renewable resources', u'wood'),\n",
      " (u'EDIP2003', u'stratospheric ozone depletion', u'ODP total'),\n",
      " (u'EPS 2000', u'total', u'abiotic stock resources'),\n",
      " (u'EPS 2000', u'total', u'emissions into soil'),\n",
      " (u'EPS 2000', u'total', u'emissions into water'),\n",
      " (u'EPS 2000', u'total', u'land occupation'),\n",
      " (u'IMPACT 2002+ (Endpoint)', u'ecosystem quality', u'land occupation'),\n",
      " (u'IMPACT 2002+ (Endpoint)', u'human health', u'ozone layer depletion'),\n",
      " (u'IMPACT 2002+ (Endpoint)', u'resources', u'mineral extraction'),\n",
      " (u'IMPACT 2002+ (Endpoint)', u'resources', u'non-renewable energy'),\n",
      " (u'IMPACT 2002+ (Midpoint)', u'ecosystem quality', u'aquatic acidification'),\n",
      " (u'IPCC 2001', u'climate change', u'GWP 100a'),\n",
      " (u'ReCiPe Endpoint (H,A)',\n",
      "  u'ecosystem quality',\n",
      "  u'agricultural land occupation'),\n",
      " (u'ReCiPe Endpoint (H,A)',\n",
      "  u'ecosystem quality',\n",
      "  u'freshwater eutrophication'),\n",
      " (u'ReCiPe Endpoint (H,A)',\n",
      "  u'ecosystem quality',\n",
      "  u'natural land transformation'),\n",
      " (u'ReCiPe Endpoint (H,A)',\n",
      "  u'ecosystem quality',\n",
      "  u'terrestrial acidification'),\n",
      " (u'ReCiPe Endpoint (H,A)', u'ecosystem quality', u'urban land occupation'),\n",
      " (u'ReCiPe Endpoint (H,A)', u'human health', u'particulate matter formation'),\n",
      " (u'ReCiPe Endpoint (H,A)', u'resources', u'fossil depletion'),\n",
      " (u'TRACI', u'environmental impact', u'acidification'),\n",
      " (u'TRACI', u'environmental impact', u'eutrophication'),\n",
      " (u'TRACI', u'environmental impact', u'global warming'),\n",
      " (u'TRACI', u'environmental impact', u'ozone depletion'),\n",
      " (u'TRACI', u'human health', u'respiratory effects, average'),\n",
      " (u'eco-indicator 99, (H,A)',\n",
      "  u'ecosystem quality',\n",
      "  u'acidification & eutrophication'),\n",
      " (u'eco-indicator 99, (H,A)', u'ecosystem quality', u'ecotoxicity'),\n",
      " (u'eco-indicator 99, (H,A)', u'ecosystem quality', u'land occupation'),\n",
      " (u'eco-indicator 99, (H,A)', u'human health', u'carcinogenics'),\n",
      " (u'eco-indicator 99, (H,A)', u'human health', u'climate change'),\n",
      " (u'eco-indicator 99, (H,A)', u'human health', u'ozone layer depletion'),\n",
      " (u'eco-indicator 99, (H,A)', u'resources', u'fossil fuels'),\n",
      " (u'eco-indicator 99, (H,A)', u'resources', u'mineral extraction'),\n",
      " (u'ecological footprint', u'total', u'CO2'),\n",
      " (u'ecological footprint', u'total', u'land occupation'),\n",
      " (u'ecological footprint', u'total', u'nuclear'),\n",
      " (u'ecological scarcity 2006', u'total', u'deposited waste'),\n",
      " (u'ecological scarcity 2006', u'total', u'emission into groundwater'),\n",
      " (u'ecological scarcity 2006', u'total', u'energy resources'),\n",
      " (u'ecological scarcity 2006', u'total', u'natural resources'),\n",
      " (u'ecosystem damage potential', u'total', u'linear, land occupation'),\n",
      " (u'ecosystem damage potential', u'total', u'linear, land transformation'),\n",
      "]\n",
      "print \"There are %s methods to test\" % len(CANDIDATES)"
     ],
     "language": "python",
     "metadata": {},
     "outputs": [
      {
       "output_type": "stream",
       "stream": "stdout",
       "text": [
        "There are 52 methods to test\n"
       ]
      }
     ],
     "prompt_number": 2
    },
    {
     "cell_type": "markdown",
     "metadata": {},
     "source": [
      "We will now compute an LCA score for each process in the `US LCI` database, for each of these 52 methods. To do this, we use the [multiprocessing](https://docs.python.org/2/library/multiprocessing.html) library to dispatch jobs to each available CPU core on our machine. We will store our results in an [numpy](http://www.numpy.org/) array."
     ]
    },
    {
     "cell_type": "code",
     "collapsed": false,
     "input": [
      "import multiprocessing\n",
      "import numpy as np"
     ],
     "language": "python",
     "metadata": {},
     "outputs": [],
     "prompt_number": 3
    },
    {
     "cell_type": "markdown",
     "metadata": {},
     "source": [
      "First, we create a function that will calculate the LCA score for one method and a list of activities. To do this, we use the ability of the `LCA` class to factorize the technosphere matrix into two triangular matrices (this is what `lca.decompose_technosphere()` does), which will make the actual LCI calculations *very* fast, on the order of 100 per second.\n",
      "\n",
      "There are one potentially tricky thing we need to be aware of. We use the convenience method `redo_lcia`. This will change the LCA demand vector, but will cause an error if the new demanded activity is not in the foreground and background databases that form the technosphere matrix. This is the whole point of `redo_lci` and `redo_lcia` - if the technosphere doesn't change, then we can make calculations faster. If it does change, then we might as well create a whole new `LCA` object. Because we are drawing our list of activities from the same database, this is no problem, but it could be if we were to sample from different databases."
     ]
    },
    {
     "cell_type": "code",
     "collapsed": false,
     "input": [
      "def many_activities_one_method(activities, method):\n",
      "    \"\"\"\n",
      "    Calculate LCA scores for many activities and one method. \n",
      "    \n",
      "    Returns a 1-dimensional numpy array of scores in the same order as `activities`.\n",
      "    \n",
      "    Note that this assumes that all activities link to the same background databases, \n",
      "    i.e. the technosphere matrix doesn't change from one activity to the next.\n",
      "    \"\"\"\n",
      "    output = np.zeros((len(activities),))        # LCA scores will be put here\n",
      "    lca = LCA({activities[0]: 1}, method=method) # LCA object which will do all calculating\n",
      "    lca.lci()                                    # Calculate inventory once to load all database data\n",
      "    lca.decompose_technosphere()                 # Keep the LU factorized matrices for faster calculations\n",
      "    lca.lcia()                                   # Load method data\n",
      "    for index, activity_name in enumerate(activities):\n",
      "        lca.redo_lcia({activity_name: 1})        # It is almost too easy...\n",
      "        output[index] = lca.score\n",
      "    return (method, output)"
     ],
     "language": "python",
     "metadata": {},
     "outputs": [],
     "prompt_number": 4
    },
    {
     "cell_type": "markdown",
     "metadata": {},
     "source": [
      "Now we define the function that will dispatch the activities and methods using a `multiprocessing` pool. This isn't particularly difficult - just get sorted lists of the inputs, and use `apply_async` (there are also other possibilities, see the [multiprocessing](https://docs.python.org/2/library/multiprocessing.html) documentation, or search for tutorials on the web."
     ]
    },
    {
     "cell_type": "code",
     "collapsed": false,
     "input": [
      "def get_lots_of_lca_scores():\n",
      "    \"\"\"Compute LCA scores for all activities and all LCIA methods.\"\"\"\n",
      "    db_data = Database(\"US LCI\").load()\n",
      "    activities = sorted(db_data.keys())             # Sort to make sure order is always the same\n",
      "    candidates = sorted(CANDIDATES)                 # Sort to make sure order is always the same\n",
      "    num_methods, num_processes = len(candidates), len(activities)\n",
      "\n",
      "    pool = multiprocessing.Pool(processes=multiprocessing.cpu_count())\n",
      "    jobs = [pool.apply_async(\n",
      "        many_activities_one_method,                 # Function\n",
      "        (activities, method)                        # Inputs (activities are always the same, but method changes in the \"for\" loop)\n",
      "    ) for method in candidates]\n",
      "    pool.close()\n",
      "    pool.join()                                     # Blocks doing anything more until calculation is finished\n",
      "    results = dict([job.get() for job in jobs])\n",
      "\n",
      "    output = np.zeros((num_processes, num_methods)) # Create array to store calculated results\n",
      "    for index, method in enumerate(candidates):\n",
      "        output[:, index] = results[method]          # Fill in a column of the results array\n",
      "    return output, candidates, activities"
     ],
     "language": "python",
     "metadata": {},
     "outputs": [],
     "prompt_number": 5
    },
    {
     "cell_type": "markdown",
     "metadata": {},
     "source": [
      "Now, we are ready to do the actual calculation. Let's time it to see how long it takes us to make more than 50.000 LCA calculations..."
     ]
    },
    {
     "cell_type": "code",
     "collapsed": false,
     "input": [
      "from time import time\n",
      "\n",
      "start = time()\n",
      "lca_scores, methods, activities = get_lots_of_lca_scores()\n",
      "print time() - start"
     ],
     "language": "python",
     "metadata": {},
     "outputs": [
      {
       "output_type": "stream",
       "stream": "stdout",
       "text": [
        "26.4629869461\n"
       ]
      }
     ],
     "prompt_number": 6
    },
    {
     "cell_type": "markdown",
     "metadata": {},
     "source": [
      "Not bad for a laptop from 2011... more than 2.000 LCA calculations per second. Now we interpret these scores. Because they can be so different from method to method, if would be nice to normalize them. But first, let's do some basic sanity checks on the results:"
     ]
    },
    {
     "cell_type": "code",
     "collapsed": false,
     "input": [
      "print \"Array shape:\", lca_scores.shape\n",
      "print \"Number of activities:\", len(activities)\n",
      "print \"Average:\", np.average(lca_scores)\n",
      "print \"Median (of absolute value):\", np.median(np.abs(lca_scores))\n",
      "print \"Min, Max:\", np.min(lca_scores), np.max(lca_scores)\n",
      "print \"Fraction of all scores with score of zero:\", (lca_scores == 0).sum() / float(lca_scores.shape[0] * lca_scores.shape[1])\n",
      "print \"Methods where all scores are zero:\", (lca_scores.sum(axis=0) == 0).sum()\n",
      "print \"Activities where all scores are zero:\", (lca_scores.sum(axis=1) == 0).sum()\n",
      "np.histogram(lca_scores)"
     ],
     "language": "python",
     "metadata": {},
     "outputs": [
      {
       "output_type": "stream",
       "stream": "stdout",
       "text": [
        "Array shape: (1126, 52)\n",
        "Number of activities: 1126\n",
        "Average: 13144.9590256\n",
        "Median (of absolute value): 4.22904395921e-19\n",
        "Min, Max: -25388942.6629 215101550.024\n",
        "Fraction of all scores with score of zero: 0.379508812679\n",
        "Methods where all scores are zero: 0\n",
        "Activities where all scores are zero: 408\n"
       ]
      },
      {
       "metadata": {},
       "output_type": "pyout",
       "prompt_number": 7,
       "text": [
        "(array([    7, 58536,     6,     1,     0,     0,     0,     0,     1,     1]),\n",
        " array([ -2.53889427e+07,  -1.33989339e+06,   2.27091559e+07,\n",
        "          4.67582051e+07,   7.08072544e+07,   9.48563037e+07,\n",
        "          1.18905353e+08,   1.42954402e+08,   1.67003451e+08,\n",
        "          1.91052501e+08,   2.15101550e+08]))"
       ]
      }
     ],
     "prompt_number": 7
    },
    {
     "cell_type": "markdown",
     "metadata": {},
     "source": [
      "If some of the above seems mysterious, search for a tutorial on numpy arrays - they can be sliced and manipulated in a number of powerful ways, and are actually one of the most important tools when doing science with python. Let's create a mask to exclude the dummy processes in the US LCI which have LCA scores of zero:"
     ]
    },
    {
     "cell_type": "code",
     "collapsed": false,
     "input": [
      "mask = (lca_scores.sum(axis=1) != 0)"
     ],
     "language": "python",
     "metadata": {},
     "outputs": [],
     "prompt_number": 8
    },
    {
     "cell_type": "markdown",
     "metadata": {},
     "source": [
      "We can now get more representative statistics."
     ]
    },
    {
     "cell_type": "code",
     "collapsed": false,
     "input": [
      "print \"Average:\", np.average(lca_scores[mask, :])\n",
      "print \"Median (of absolute value):\", np.median(np.abs(lca_scores[mask, :]))\n",
      "print \"Fraction of all scores with score of zero:\", (lca_scores[mask, :] == 0).sum() / float(mask.sum() * lca_scores.shape[1])"
     ],
     "language": "python",
     "metadata": {},
     "outputs": [
      {
       "output_type": "stream",
       "stream": "stdout",
       "text": [
        "Average: 20614.5179147\n",
        "Median (of absolute value): 2.08750234877e-11\n",
        "Fraction of all scores with score of zero: 0.0269177201628\n"
       ]
      }
     ],
     "prompt_number": 9
    },
    {
     "cell_type": "markdown",
     "metadata": {},
     "source": [
      "Now we need to figure out how to compare these scores. We have no information on the distribution of scores for each method, and no reason to think that they are e.g. normally distributed, so most of our paramteric statistics won't work. Instead, we can compute a [rank order correlation](http://en.wikipedia.org/wiki/Spearman's_rank_correlation_coefficient) coefficient, but using [Kendall's \u03c4](http://en.wikipedia.org/wiki/Kendall_tau_rank_correlation_coefficient) instead of Spearman's ROCC, as in my experience it is a better discriminator."
     ]
    },
    {
     "cell_type": "code",
     "collapsed": false,
     "input": [
      "from scipy import stats\n",
      "\n",
      "def create_correlation_matrix(scores_array):\n",
      "    num_methods = scores_array.shape[1]\n",
      "    correlations = np.zeros((num_methods, num_methods))\n",
      "\n",
      "    for row in xrange(num_methods):\n",
      "        for col in xrange(num_methods):\n",
      "            if col <= row:\n",
      "                continue                               # Only need to compute correlation once\n",
      "            dataset_1 = scores_array[:, row]\n",
      "            dataset_2 = scores_array[:, col]\n",
      "            mask = (dataset_1 != 0) * (dataset_2 != 0) # Ignore activities that have zero score\n",
      "            correlations[row, col] = stats.kendalltau( # Get tau value, drop p-statistic\n",
      "                dataset_1[mask], \n",
      "                dataset_2[mask]\n",
      "            )[0]  \n",
      "\n",
      "    # correlations = correlations + correlations.T       # Make sorting easier by adding filling in lower left triangle\n",
      "    return correlations"
     ],
     "language": "python",
     "metadata": {},
     "outputs": [],
     "prompt_number": 10
    },
    {
     "cell_type": "code",
     "collapsed": false,
     "input": [
      "correlation_matrix = create_correlation_matrix(lca_scores[mask, :])"
     ],
     "language": "python",
     "metadata": {},
     "outputs": [],
     "prompt_number": 11
    },
    {
     "cell_type": "markdown",
     "metadata": {},
     "source": [
      "Let's visualize this matrix.\n",
      "\n",
      "By the way, I strongly recommend investigating the [seaborn](http://stanford.edu/~mwaskom/software/seaborn/index.html) graphing library for this kind of analysis. In this workbook, we use matplotlib, to avoid having to install more dependencies."
     ]
    },
    {
     "cell_type": "code",
     "collapsed": false,
     "input": [
      "%matplotlib inline"
     ],
     "language": "python",
     "metadata": {},
     "outputs": [],
     "prompt_number": 12
    },
    {
     "cell_type": "markdown",
     "metadata": {},
     "source": [
      "We use the [cubehelix](http://www.ifweassume.com/2013/05/cubehelix-or-how-i-learned-to-love.html) colormap, which you should know about :)"
     ]
    },
    {
     "cell_type": "code",
     "collapsed": false,
     "input": [
      "import matplotlib.pyplot as plt\n",
      "\n",
      "fig = plt.gcf()\n",
      "fig.set_size_inches(12, 12)\n",
      "\n",
      "masked_correlation = np.ma.array(correlation_matrix, mask=correlation_matrix == 0).T\n",
      "plt.pcolor(masked_correlation, cmap=plt.cm.cubehelix_r)\n",
      "plt.colorbar()\n",
      "plt.ylim(None, 51)\n",
      "plt.xlim(None, 51)\n",
      "plt.axis('off')"
     ],
     "language": "python",
     "metadata": {},
     "outputs": [
      {
       "metadata": {},
       "output_type": "pyout",
       "prompt_number": 13,
       "text": [
        "(0.0, 51.0, 0.0, 51.0)"
       ]
      },
      {
       "metadata": {},
       "output_type": "display_data",
       "png": "[encoded data removed]",
       "text": [
        "<matplotlib.figure.Figure at 0x1072600d0>"
       ]
      }
     ],
     "prompt_number": 13
    },
    {
     "cell_type": "markdown",
     "metadata": {},
     "source": [
      "This is quite interesting. The first thing that jumps out at me is how strongly some methods are correlated. Of course, there will be many strong correlation, as many methods use the same factors for e.g. global warming, or the same model or assumption for e.g. ecotoxicity.\n",
      "\n",
      "There are also quite some *negative* correlations, which is a bit harder to understand. It looks like these methods show tradeoffs between different impact categories. Let's find the two methods with the highest negative correlation, and graph their actual values compared with their ranks:"
     ]
    },
    {
     "cell_type": "code",
     "collapsed": false,
     "input": [
      "print \"Minimum correlation:\", correlation_matrix.min()\n",
      "# Get array indices\n",
      "indices_min_correlation = np.unravel_index(np.argmin(correlation_matrix), correlation_matrix.shape)\n",
      "# Translate array indices into method names\n",
      "method_lookup = {index: method for index, method in enumerate(methods)}"
     ],
     "language": "python",
     "metadata": {},
     "outputs": [
      {
       "output_type": "stream",
       "stream": "stdout",
       "text": [
        "Minimum correlation: -0.384576843684\n"
       ]
      }
     ],
     "prompt_number": 31
    },
    {
     "cell_type": "code",
     "collapsed": false,
     "input": [
      "for x in indices_min_correlation:\n",
      "    print method_lookup[x]"
     ],
     "language": "python",
     "metadata": {},
     "outputs": [
      {
       "output_type": "stream",
       "stream": "stdout",
       "text": [
        "(u'TRACI', u'environmental impact', u'ozone depletion')\n",
        "(u'eco-indicator 99, (H,A)', u'ecosystem quality', u'land occupation')\n"
       ]
      }
     ],
     "prompt_number": 20
    },
    {
     "cell_type": "code",
     "collapsed": false,
     "input": [
      "xs = lca_scores[:, indices_min_correlation[0]]\n",
      "ys = lca_scores[:, indices_min_correlation[1]]\n",
      "mask = (xs != 0) * (ys != 0)\n",
      "print \"Taking {} LCA activity scores from {} possible\".format(mask.sum(), xs.shape[0])"
     ],
     "language": "python",
     "metadata": {},
     "outputs": [
      {
       "output_type": "stream",
       "stream": "stdout",
       "text": [
        "Taking 681 LCA activity scores from 1126 possible\n"
       ]
      }
     ],
     "prompt_number": 25
    },
    {
     "cell_type": "markdown",
     "metadata": {},
     "source": [
      "Lots of graphing code to make something decent - there is lots of discussion of matplotlib and its many, many functions all over the web."
     ]
    },
    {
     "cell_type": "code",
     "collapsed": false,
     "input": [
      "fig = plt.gcf()\n",
      "fig.set_size_inches(18, 6)\n",
      "\n",
      "ax = plt.subplot(131)\n",
      "ax.hexbin(np.log(xs[mask]), np.log(ys[mask]), cmap=plt.cm.gist_stern_r, gridsize=30)\n",
      "ax.set_xticks([])\n",
      "ax.set_yticks([])\n",
      "# TODO: Colorbar?\n",
      "x_low, x_high = ax.get_xlim()\n",
      "ax.set_xlim(x_low * 1.1, x_high * 1.2)\n",
      "y_low, y_high = ax.get_ylim()\n",
      "ax.set_ylim(y_low * 1.1, y_high * 1.2)\n",
      "ax.set_title(\"Data (hexbin)\")\n",
      "\n",
      "ax = plt.subplot(132)\n",
      "ax.loglog(\n",
      "    xs[mask], \n",
      "    ys[mask], \n",
      "    marker=\".\",\n",
      "    linestyle=\"None\",\n",
      "    alpha=0.3,\n",
      "    markersize=12,\n",
      "    mfc=\"g\",\n",
      "    mec=\"None\"\n",
      ")\n",
      "ax.set_title(\"Raw data\")\n",
      "\n",
      "ax = plt.subplot(133)\n",
      "ax.plot(\n",
      "    np.argsort(np.argsort(xs[mask])),  # Ranks instead of data values\n",
      "    np.argsort(np.argsort(ys[mask])),  # Ranks instead of data values \n",
      "    marker=\".\",\n",
      "    linestyle=\"None\",\n",
      "    alpha=0.3,\n",
      "    markersize=12,\n",
      "    mfc=\"g\",\n",
      "    mec=\"None\"\n",
      ")\n",
      "ax.set_title(\"Ranked data\")"
     ],
     "language": "python",
     "metadata": {},
     "outputs": [
      {
       "metadata": {},
       "output_type": "pyout",
       "prompt_number": 58,
       "text": [
        "<matplotlib.text.Text at 0x10afe1d90>"
       ]
      },
      {
       "metadata": {},
       "output_type": "display_data",
       "png": "[encoded data removed]",
       "text": [
        "<matplotlib.figure.Figure at 0x10aad9c90>"
       ]
      }
     ],
     "prompt_number": 58
    },
    {
     "cell_type": "markdown",
     "metadata": {},
     "source": [
      "In this case, it is clear that the negative correlation shown by the ranked data is not seen in the raw data values. ALthough ranked data are generally more robust than raw data (and in this case we do have clear outliers, and a the raw data span many orders of magnitude), for the raw data there is a clear positive trend for both methods."
     ]
    }
   ],
   "metadata": {}
  }
 ]
}
