{
 "metadata": {
  "name": "",
  "signature": "sha256:01ca6a6b598a64d328567604ce4110c512988c011c81923bbec3a9e71e3a04ea"
 },
 "nbformat": 3,
 "nbformat_minor": 0,
 "worksheets": [
  {
   "cells": [
    {
     "cell_type": "markdown",
     "metadata": {},
     "source": [
      "# Tutorial 2a - Using `bw2simple` to make life easier\n",
      "\n",
      "**This tutorial assumes you have completed [tutorial 1](http://nbviewer.ipython.org/urls/bitbucket.org/cmutel/brightway2/raw/default/docs/notebooks/Tutorial%201%20-%20Getting%20Started.ipynb) already!**\n",
      "\n",
      "At the end of this tutorial, you should be able to use Activity and Exchange proxies.\n",
      "\n",
      "Before getting started, we need to set our directory as in the [first tutorial](http://nbviewer.ipython.org/urls/bitbucket.org/cmutel/brightway2/raw/default/docs/notebooks/Tutorial%201%20-%20Getting%20Started.ipynb)."
     ]
    },
    {
     "cell_type": "markdown",
     "metadata": {},
     "source": [
      "Install the `bw2simple` library (if you use something other than `pip`, then substitute that here)."
     ]
    },
    {
     "cell_type": "code",
     "collapsed": false,
     "input": [
      "try:\n",
      "    import bw2simple\n",
      "except:\n",
      "    print \"\"\"Install bw2simple with this command in a new cell:\n",
      "                !pip install bw2simple\n",
      "        \"\"\""
     ],
     "language": "python",
     "metadata": {},
     "outputs": [],
     "prompt_number": 1
    },
    {
     "cell_type": "code",
     "collapsed": false,
     "input": [
      "from brightway2 import *\n",
      "from bw2simple import Activity, Exchange"
     ],
     "language": "python",
     "metadata": {},
     "outputs": [],
     "prompt_number": 2
    },
    {
     "cell_type": "code",
     "collapsed": false,
     "input": [
      "BRIGHTWAY2_DIR = \"/Users/cmutel/Projects/Brightway2/tutorials/bw2\""
     ],
     "language": "python",
     "metadata": {},
     "outputs": [],
     "prompt_number": 3
    },
    {
     "cell_type": "code",
     "collapsed": false,
     "input": [
      "from brightway2 import *\n",
      "set_data_dir(BRIGHTWAY2_DIR, permanent=False)"
     ],
     "language": "python",
     "metadata": {},
     "outputs": [],
     "prompt_number": 4
    },
    {
     "cell_type": "markdown",
     "metadata": {},
     "source": [
      "# Activities\n",
      "\n",
      "The point of the `Activity` proxy is to make it a bit easier to understand and work with activity datasets. A dataset key like `('US LCI', u'95a2ae665a5db763646f7176ed9e6f7a')` doesn't say anything about the process, or its links to other processes or biosphere flows. Let's pick a process at random and see what `Activity` gets us:"
     ]
    },
    {
     "cell_type": "code",
     "collapsed": false,
     "input": [
      "key = Database(\"US LCI\").random()\n",
      "activity = Activity(key)\n",
      "\n",
      "# Make sure we get an interesting process\n",
      "while len(activity.exchanges) < 2:\n",
      "    key = Database(\"US LCI\").random()\n",
      "    activity = Activity(key)\n",
      "\n",
      "print type(activity)\n",
      "activity"
     ],
     "language": "python",
     "metadata": {},
     "outputs": [
      {
       "output_type": "stream",
       "stream": "stdout",
       "text": [
        "<class 'bw2simple.activity.Activity'>\n"
       ]
      },
      {
       "metadata": {},
       "output_type": "pyout",
       "prompt_number": 2,
       "text": [
        "'Transport, combination truck, long-haul, diesel powered, Alaska' (ton kilometer, RNA, ['Truck Transportation', 'General Freight Trucking'])"
       ]
      }
     ],
     "prompt_number": 2
    },
    {
     "cell_type": "markdown",
     "metadata": {},
     "source": [
      "`Activity` uses some dark magic to make it behave in some ways like a normal process key:"
     ]
    },
    {
     "cell_type": "code",
     "collapsed": false,
     "input": [
      "print activity is key\n",
      "print activity == key"
     ],
     "language": "python",
     "metadata": {},
     "outputs": [
      {
       "output_type": "stream",
       "stream": "stdout",
       "text": [
        "False\n",
        "True\n"
       ]
      }
     ],
     "prompt_number": 3
    },
    {
     "cell_type": "markdown",
     "metadata": {},
     "source": [
      "As such, it can be used in normal Brightway2 functions:"
     ]
    },
    {
     "cell_type": "code",
     "collapsed": false,
     "input": [
      "activity in Database(\"US LCI\").load()"
     ],
     "language": "python",
     "metadata": {},
     "outputs": [
      {
       "metadata": {},
       "output_type": "pyout",
       "prompt_number": 4,
       "text": [
        "True"
       ]
      }
     ],
     "prompt_number": 4
    },
    {
     "cell_type": "code",
     "collapsed": false,
     "input": [
      "lca = LCA({activity: 1})\n",
      "lca.lci()"
     ],
     "language": "python",
     "metadata": {},
     "outputs": [],
     "prompt_number": 5
    },
    {
     "cell_type": "markdown",
     "metadata": {},
     "source": [
      "The way this works is with the Python magic methods `__hash__` and `__eq__`. Probably you don't care about the details, but be aware that if you going to do deep dark magic, things might not work exactly as you expect.\n",
      "\n",
      "We also get some common attributes for free:"
     ]
    },
    {
     "cell_type": "code",
     "collapsed": false,
     "input": [
      "print activity.name\n",
      "print activity.unit\n",
      "print activity.location\n",
      "print activity.categories"
     ],
     "language": "python",
     "metadata": {},
     "outputs": [
      {
       "output_type": "stream",
       "stream": "stdout",
       "text": [
        "Transport, combination truck, long-haul, diesel powered, Alaska\n",
        "ton kilometer\n",
        "RNA\n",
        "['Truck Transportation', 'General Freight Trucking']\n"
       ]
      }
     ],
     "prompt_number": 6
    },
    {
     "cell_type": "markdown",
     "metadata": {},
     "source": [
      "Other data attributes can reached as normal in a data dictionary:"
     ]
    },
    {
     "cell_type": "code",
     "collapsed": false,
     "input": [
      "print activity['name']"
     ],
     "language": "python",
     "metadata": {},
     "outputs": [
      {
       "output_type": "stream",
       "stream": "stdout",
       "text": [
        "Transport, combination truck, long-haul, diesel powered, Alaska\n"
       ]
      }
     ],
     "prompt_number": 7
    },
    {
     "cell_type": "markdown",
     "metadata": {},
     "source": [
      "You can test if attributes are available:"
     ]
    },
    {
     "cell_type": "code",
     "collapsed": false,
     "input": [
      "print \"name\" in activity\n",
      "print \"foo\" in activity"
     ],
     "language": "python",
     "metadata": {},
     "outputs": [
      {
       "output_type": "stream",
       "stream": "stdout",
       "text": [
        "True\n",
        "False\n"
       ]
      }
     ],
     "prompt_number": 8
    },
    {
     "cell_type": "markdown",
     "metadata": {},
     "source": [
      "Undefined attributes will raise KeyErrors:"
     ]
    },
    {
     "cell_type": "code",
     "collapsed": false,
     "input": [
      "print activity['foo']"
     ],
     "language": "python",
     "metadata": {},
     "outputs": [
      {
       "ename": "KeyError",
       "evalue": "'foo'",
       "output_type": "pyerr",
       "traceback": [
        "\u001b[0;31m---------------------------------------------------------------------------\u001b[0m\n\u001b[0;31mKeyError\u001b[0m                                  Traceback (most recent call last)",
        "\u001b[0;32m<ipython-input-9-69ec650b9d63>\u001b[0m in \u001b[0;36m<module>\u001b[0;34m()\u001b[0m\n\u001b[0;32m----> 1\u001b[0;31m \u001b[0;32mprint\u001b[0m \u001b[0mactivity\u001b[0m\u001b[0;34m[\u001b[0m\u001b[0;34m'foo'\u001b[0m\u001b[0;34m]\u001b[0m\u001b[0;34m\u001b[0m\u001b[0m\n\u001b[0m",
        "\u001b[0;32m/Users/cmutel/local/bw2dev/lib/python2.7/site-packages/bw2simple/activity.pyc\u001b[0m in \u001b[0;36m__getitem__\u001b[0;34m(self, key)\u001b[0m\n\u001b[1;32m     63\u001b[0m             \u001b[0;32mreturn\u001b[0m \u001b[0mself\u001b[0m\u001b[0;34m.\u001b[0m\u001b[0mcode\u001b[0m\u001b[0;34m\u001b[0m\u001b[0m\n\u001b[1;32m     64\u001b[0m         \u001b[0;32melse\u001b[0m\u001b[0;34m:\u001b[0m\u001b[0;34m\u001b[0m\u001b[0m\n\u001b[0;32m---> 65\u001b[0;31m             \u001b[0;32mreturn\u001b[0m \u001b[0mself\u001b[0m\u001b[0;34m.\u001b[0m\u001b[0mraw\u001b[0m\u001b[0;34m[\u001b[0m\u001b[0mkey\u001b[0m\u001b[0;34m]\u001b[0m\u001b[0;34m\u001b[0m\u001b[0m\n\u001b[0m\u001b[1;32m     66\u001b[0m \u001b[0;34m\u001b[0m\u001b[0m\n\u001b[1;32m     67\u001b[0m     \u001b[0;32mdef\u001b[0m \u001b[0m__contains__\u001b[0m\u001b[0;34m(\u001b[0m\u001b[0mself\u001b[0m\u001b[0;34m,\u001b[0m \u001b[0mkey\u001b[0m\u001b[0;34m)\u001b[0m\u001b[0;34m:\u001b[0m\u001b[0;34m\u001b[0m\u001b[0m\n",
        "\u001b[0;31mKeyError\u001b[0m: 'foo'"
       ]
      }
     ],
     "prompt_number": 9
    },
    {
     "cell_type": "markdown",
     "metadata": {},
     "source": [
      "## Shortcuts\n",
      "\n",
      "Easily calculate a LCI or LCIA for this activity (LCI is calculated automatically, LCIA as well if a method is provided)"
     ]
    },
    {
     "cell_type": "code",
     "collapsed": false,
     "input": [
      "lca = activity.lca()\n",
      "print type(lca)\n",
      "\n",
      "lca = activity.lca(method=(u'IPCC 2007', u'climate change', u'GWP 100a'))\n",
      "print lca.score"
     ],
     "language": "python",
     "metadata": {},
     "outputs": [
      {
       "output_type": "stream",
       "stream": "stdout",
       "text": [
        "<class 'bw2calc.lca.LCA'>\n",
        "0.0"
       ]
      },
      {
       "output_type": "stream",
       "stream": "stdout",
       "text": [
        "\n"
       ]
      }
     ],
     "prompt_number": 10
    },
    {
     "cell_type": "markdown",
     "metadata": {},
     "source": [
      "Open this activity in a new tab:\n",
      "\n",
      "**You must have bw2-web already running for this to work!**"
     ]
    },
    {
     "cell_type": "code",
     "collapsed": false,
     "input": [
      "activity.open_in_webbrowser()"
     ],
     "language": "python",
     "metadata": {},
     "outputs": [],
     "prompt_number": 11
    },
    {
     "cell_type": "markdown",
     "metadata": {},
     "source": [
      "# Exchanges\n",
      "\n",
      "Activity inputs and biosphere flows can be viewed in a nicer manor with `activity.exchanges`.\n",
      "Each list item is an `Exchange` proxy."
     ]
    },
    {
     "cell_type": "code",
     "collapsed": false,
     "input": [
      "activity.exchanges[:10]"
     ],
     "language": "python",
     "metadata": {},
     "outputs": [
      {
       "metadata": {},
       "output_type": "pyout",
       "prompt_number": 12,
       "text": [
        "[0.028 L from 'Diesel, at refinery' (L, RNA, ['Petroleum and Coal Products Mnf.', 'Petroleum Refineries']) to 'Transport, combination truck, long-haul, diesel powered, Alaska' (ton kilometer, RNA, ['Truck Transportation', 'General Freight Trucking']),\n",
        " 0.061 ton kilometer from 'Transport, ocean freighter, average fuel mix' (ton kilometer, US, ['Water Transportation', 'Deep Sea Freight Transportation']) to 'Transport, combination truck, long-haul, diesel powered, Alaska' (ton kilometer, RNA, ['Truck Transportation', 'General Freight Trucking']),\n",
        " 0.0087 ton kilometer from 'Transport, barge, average fuel mix' (ton kilometer, US, ['Water Transportation', 'Inland Water Freight Transportation']) to 'Transport, combination truck, long-haul, diesel powered, Alaska' (ton kilometer, RNA, ['Truck Transportation', 'General Freight Trucking']),\n",
        " 0.09 ton kilometer from 'Transport, pipeline, unspecified petroleum products' (ton kilometer, RNA, ['Utilities', 'Fossil Fuel Electric Power Generation']) to 'Transport, combination truck, long-haul, diesel powered, Alaska' (ton kilometer, RNA, ['Truck Transportation', 'General Freight Trucking']),\n",
        " 0.017 ton kilometer from 'Transport, train, diesel powered' (ton kilometer, US, ['Rail Transportation', 'Rail Transportation']) to 'Transport, combination truck, long-haul, diesel powered, Alaska' (ton kilometer, RNA, ['Truck Transportation', 'General Freight Trucking']),\n",
        " 0.009 ton kilometer from 'Transport, combination truck, average fuel mix' (ton kilometer, US, ['Truck Transportation', 'General Freight Trucking']) to 'Transport, combination truck, long-haul, diesel powered, Alaska' (ton kilometer, RNA, ['Truck Transportation', 'General Freight Trucking']),\n",
        " 9.3e-07 kilogram from 'Ammonia' (kilogram, [], [u'air']) to 'Transport, combination truck, long-haul, diesel powered, Alaska' (ton kilometer, RNA, ['Truck Transportation', 'General Freight Trucking']),\n",
        " 0.073 kilogram from 'Carbon dioxide, fossil' (kilogram, [], [u'air']) to 'Transport, combination truck, long-haul, diesel powered, Alaska' (ton kilometer, RNA, ['Truck Transportation', 'General Freight Trucking']),\n",
        " 0.00012 kilogram from 'Carbon monoxide, fossil' (kilogram, [], [u'air']) to 'Transport, combination truck, long-haul, diesel powered, Alaska' (ton kilometer, RNA, ['Truck Transportation', 'General Freight Trucking']),\n",
        " 2.5e-05 kilogram from 'Hydrocarbons (other than methane)' (kilogram, [], ('air',)) to 'Transport, combination truck, long-haul, diesel powered, Alaska' (ton kilometer, RNA, ['Truck Transportation', 'General Freight Trucking'])]"
       ]
      }
     ],
     "prompt_number": 12
    },
    {
     "cell_type": "code",
     "collapsed": false,
     "input": [
      "an_exchange = activity.exchanges[0]\n",
      "print type(an_exchange)"
     ],
     "language": "python",
     "metadata": {},
     "outputs": [
      {
       "output_type": "stream",
       "stream": "stdout",
       "text": [
        "<class 'bw2simple.exchange.Exchange'>\n"
       ]
      }
     ],
     "prompt_number": 13
    },
    {
     "cell_type": "code",
     "collapsed": false,
     "input": [
      "print an_exchange.input\n",
      "print an_exchange.to\n",
      "print an_exchange.amount\n",
      "print an_exchange.unit\n",
      "print an_exchange\n",
      "an_exchange"
     ],
     "language": "python",
     "metadata": {},
     "outputs": [
      {
       "output_type": "stream",
       "stream": "stdout",
       "text": [
        "('US LCI', u'e863d7dd9485d3070e0a39b1691c225f')\n",
        "('US LCI', u'0f9260fe047345f35904d412ba6ac5b9')\n",
        "0.0278513402047\n",
        "L\n",
        "0.0278513402047 ('US LCI', u'e863d7dd9485d3070e0a39b1691c225f') to ('US LCI', u'0f9260fe047345f35904d412ba6ac5b9')\n"
       ]
      },
      {
       "metadata": {},
       "output_type": "pyout",
       "prompt_number": 14,
       "text": [
        "0.028 L from 'Diesel, at refinery' (L, RNA, ['Petroleum and Coal Products Mnf.', 'Petroleum Refineries']) to 'Transport, combination truck, long-haul, diesel powered, Alaska' (ton kilometer, RNA, ['Truck Transportation', 'General Freight Trucking'])"
       ]
      }
     ],
     "prompt_number": 14
    },
    {
     "cell_type": "markdown",
     "metadata": {},
     "source": [
      "## Uncertainty"
     ]
    },
    {
     "cell_type": "code",
     "collapsed": false,
     "input": [
      "print an_exchange.uncertainty_type"
     ],
     "language": "python",
     "metadata": {},
     "outputs": [
      {
       "output_type": "stream",
       "stream": "stdout",
       "text": [
        "<class 'stats_arrays.distributions.undefined.UndefinedUncertainty'>\n"
       ]
      }
     ],
     "prompt_number": 15
    },
    {
     "cell_type": "code",
     "collapsed": false,
     "input": [
      "print an_exchange.uncertainty"
     ],
     "language": "python",
     "metadata": {},
     "outputs": [
      {
       "output_type": "stream",
       "stream": "stdout",
       "text": [
        "{'uncertainty type': 0, 'loc': 0.027851340204651}\n"
       ]
      }
     ],
     "prompt_number": 16
    },
    {
     "cell_type": "markdown",
     "metadata": {},
     "source": [
      "This won't be too exciting, as the US LCI database has no uncertainty..."
     ]
    },
    {
     "cell_type": "code",
     "collapsed": false,
     "input": [
      "sample = an_exchange.random_sample(n=1000)\n",
      "print sample.shape"
     ],
     "language": "python",
     "metadata": {},
     "outputs": [
      {
       "output_type": "stream",
       "stream": "stdout",
       "text": [
        "(1000,)\n"
       ]
      }
     ],
     "prompt_number": 17
    }
   ],
   "metadata": {}
  }
 ]
}
