{
 "metadata": {
  "name": "",
  "signature": "sha256:e21caaf7b9d3a33d6d481336cd05f155057b2274823fba8cdbae86931a8490d3"
 },
 "nbformat": 3,
 "nbformat_minor": 0,
 "worksheets": [
  {
   "cells": [
    {
     "cell_type": "markdown",
     "metadata": {},
     "source": [
      "# Tutorial 2 - Working with data\n",
      "\n",
      "At the end of this tutorial, you should:\n",
      "\n",
      "* Define a basic database, including links to other databases\n",
      "* Backup a database, create a new version, and revert to previous versions\n",
      "* Search a database\n",
      "\n",
      "If you finish the tutorial, you get a kitten.\n",
      "\n",
      "You should **download this notebook** and run it cell by cell - don't just read it on the web!"
     ]
    },
    {
     "cell_type": "markdown",
     "metadata": {},
     "source": [
      "## Brightway 2 tutorials\n",
      "\n",
      "Please read the tutorials in order, as they build upon each other.\n",
      "\n",
      "* [1 - Getting Started](http://nbviewer.ipython.org/urls/bitbucket.org/cmutel/brightway2/raw/default/docs/notebooks/Tutorial 1 - Getting Started.ipynb)\n",
      "* [2 - Working with data](http://nbviewer.ipython.org/urls/bitbucket.org/cmutel/brightway2/raw/default/docs/notebooks/Tutorial 2 - Working with data.ipynb)\n",
      "* [2a - Using bw2simple to make life easier](http://nbviewer.ipython.org/urls/bitbucket.org/cmutel/brightway2/raw/default/docs/notebooks/Tutorial 2a - Using bw2simple to make life easier.ipynb)\n",
      "* [3 - Basic LCA Calculations](http://nbviewer.ipython.org/urls/bitbucket.org/cmutel/brightway2/raw/default/docs/notebooks/Tutorial%201%20-%20Getting%20Started.ipynb)\n",
      "* [4 - Meta-analysis](http://nbviewer.ipython.org/urls/bitbucket.org/cmutel/brightway2/raw/default/docs/notebooks/Tutorial 4 - Meta-analysis.ipynb)\n",
      "* [5 - Defining A New Matrix](http://nbviewer.ipython.org/urls/bitbucket.org/cmutel/brightway2/raw/default/docs/notebooks/Tutorial%205%20-%20Defining%20A%20New%20Matrix.ipynb)"
     ]
    },
    {
     "cell_type": "markdown",
     "metadata": {},
     "source": [
      "## IPython Notebook\n",
      "\n",
      "This tutorial is written in an IPython Notebook, an online scientific notebook which combines, text, data, images, and programming. It is amazing, and could be a fantastic way to do and communicate advanced LCA work. See the [documentation](http://ipython.org/ipython-doc/dev/interactive/htmlnotebook.html) and a list of [awesome examples](https://github.com/ipython/ipython/wiki/A-gallery-of-interesting-IPython-Notebooks)."
     ]
    },
    {
     "cell_type": "markdown",
     "metadata": {},
     "source": [
      "Before getting started, we need to set\n",
      "our directory as in the [first tutorial](http://nbviewer.ipython.org/urls/bitbucket.org/cmutel/brightway2/raw/default/docs/notebooks/Tutorial%201%20-%20Getting%20Started.ipynb)."
     ]
    },
    {
     "cell_type": "code",
     "collapsed": false,
     "input": [
      "BRIGHTWAY2_DIR = \"/Users/cmutel/Projects/Brightway2/tutorials/bw2\""
     ],
     "language": "python",
     "metadata": {},
     "outputs": []
    },
    {
     "cell_type": "code",
     "collapsed": false,
     "input": [
      "from brightway2 import *\n",
      "set_data_dir(BRIGHTWAY2_DIR, permanent=False)"
     ],
     "language": "python",
     "metadata": {},
     "outputs": [],
     "prompt_number": 1
    },
    {
     "cell_type": "markdown",
     "metadata": {},
     "source": [
      "Before going any further, please read [about what a database is in Brightway2](https://brightway2.readthedocs.org/en/latest/lci.html).\n",
      "\n",
      "## An example database\n",
      "\n",
      "One of the nicest ideas in Brightway2 is that data is just data, and not hidden behind a database and object-relational mapping (ORM). This makes it very easy to do data manipulation, and to add new fields to datasets.\n",
      "\n",
      "Let's define an example database: "
     ]
    },
    {
     "cell_type": "code",
     "collapsed": false,
     "input": [
      "example_data = {\n",
      "    (\"example\", \"A\"): {\n",
      "        \"name\": \"A\",\n",
      "        \"exchanges\": [{\n",
      "            \"amount\": 1.0,\n",
      "            \"input\": (\"example\", \"B\"),\n",
      "            \"type\": \"technosphere\"\n",
      "            }]\n",
      "        },\n",
      "    (\"example\", \"B\"): {\n",
      "        \"name\": \"B\",\n",
      "        \"exchanges\": []\n",
      "        }\n",
      "    }"
     ],
     "language": "python",
     "metadata": {},
     "outputs": [],
     "prompt_number": 2
    },
    {
     "cell_type": "markdown",
     "metadata": {},
     "source": [
      "This is quite a simple example - two activities, one of whom has no inputs. In fact, this example dataset has only a few fields - things like ``unit`` and ``categories`` could be also included, but are not required. In fact, there are *no* required fields in datasets, only some suggested ones, and general guidelines on how to use those [suggested fields](https://brightway2.readthedocs.org/en/latest/lci.html#lci-datasets-are-documents). It's like not wearing underwear - Brightway2 gives you the freedom to do it, but most people you are interacting with would prefer that you didn't.\n",
      "\n",
      "Let's first make sure that this data is valid:"
     ]
    },
    {
     "cell_type": "code",
     "collapsed": false,
     "input": [
      "db = Database(\"example\")\n",
      "db.validate(example_data)"
     ],
     "language": "python",
     "metadata": {},
     "outputs": [
      {
       "output_type": "stream",
       "stream": "stderr",
       "text": [
        "/Users/cmutel/local/bw2dev/lib/python2.7/site-packages/bw2data/data_store.py:46: UserWarning: \n",
        "\tBrightway2 SingleFileDatabase: example is not registered\n",
        "  warnings.warn(u\"\\n\\t%s is not registered\" % self, UserWarning)\n"
       ]
      },
      {
       "metadata": {},
       "output_type": "pyout",
       "prompt_number": 3,
       "text": [
        "True"
       ]
      }
     ],
     "prompt_number": 3
    },
    {
     "cell_type": "markdown",
     "metadata": {},
     "source": [
      "We get a warning because Brightway2 doesn't know anything about the \"just an example\" database, and it tells you that this database isn't registered yet. This is correct - we haven't told Brightway2 anything about it. We can just ignore the warning.\n",
      "\n",
      "Let's talk a bit about the fields in ``example_data``:\n",
      "\n",
      "* `name`: This one is pretty easy :)\n",
      "* `exchanges`: This is a list of inputs and outputs, like how much energy or material is needed for this dataset's production. Every `exchange` is an intput, unless it has the value `type = \"production\"`. A `production` exchange defines *how much* of the output is produced. Most of the time, you can ignore this, as the default value is one - this is what we do in the example data. However, sometimes it is useful to define a dataset that produces more.\n",
      "\n",
      "See also: [What happens with a non-unitary production amount in LCA?](http://chris.mutel.org/non-unitary.html).\n",
      "\n",
      "## Linking databases\n",
      "\n",
      "As you know already, in Brightway2 a `Database` is just a collection of data, a sort of organizational container. They are cheap to create, so feel free to make as many as you need. However, Brightway2 needs to know if your database uses inputs from other databases to correctly do calculations. In our example data, we can see that this isn't the case, as we only have one input, and that is from the \"example\" database. However, most databases will depend on the `\"biosphere\"` database, and often you will build databases on top of background databases like ecoinvent or the US LCI.\n",
      "\n",
      "Luckily, you don't need to worry about this, as Brightway2 will link databases automatically:"
     ]
    },
    {
     "cell_type": "code",
     "collapsed": false,
     "input": [
      "for database in databases:\n",
      "    print database, databases[database]['depends']"
     ],
     "language": "python",
     "metadata": {},
     "outputs": [
      {
       "output_type": "stream",
       "stream": "stdout",
       "text": [
        "biosphere []\n",
        "US LCI [u'biosphere']\n"
       ]
      }
     ],
     "prompt_number": 4
    },
    {
     "cell_type": "markdown",
     "metadata": {},
     "source": [
      "## Registering databases\n",
      "\n",
      "The warning we saw above says that \"just an example is not registered.\" Now that we know that our example data has no other databases it depends on, registering a `Database` is pretty simple: just call `.register()`:"
     ]
    },
    {
     "cell_type": "code",
     "collapsed": false,
     "input": [
      "db.register()"
     ],
     "language": "python",
     "metadata": {},
     "outputs": [],
     "prompt_number": 5
    },
    {
     "cell_type": "markdown",
     "metadata": {},
     "source": [
      "We should now have three registered databases (if not, did you do tutorial 1?):"
     ]
    },
    {
     "cell_type": "code",
     "collapsed": false,
     "input": [
      "for name in databases:\n",
      "    print name"
     ],
     "language": "python",
     "metadata": {},
     "outputs": [
      {
       "output_type": "stream",
       "stream": "stdout",
       "text": [
        "biosphere\n",
        "example\n",
        "US LCI\n"
       ]
      }
     ],
     "prompt_number": 6
    },
    {
     "cell_type": "markdown",
     "metadata": {},
     "source": [
      "## Writing database data\n",
      "\n",
      "However, our database is still empty. We need to write our example data to the database, and then process it to a [more efficient numeric form](https://brightway2.readthedocs.org/en/latest/intermediate.html) for matrix construction."
     ]
    },
    {
     "cell_type": "code",
     "collapsed": false,
     "input": [
      "db.write(example_data)\n",
      "db.process()"
     ],
     "language": "python",
     "metadata": {},
     "outputs": [],
     "prompt_number": 7
    },
    {
     "cell_type": "markdown",
     "metadata": {},
     "source": [
      "## Loading database data\n",
      "\n",
      "The corollary of writing is reading data. There aren't too many exciting things to say about this:"
     ]
    },
    {
     "cell_type": "code",
     "collapsed": false,
     "input": [
      "db.load()"
     ],
     "language": "python",
     "metadata": {},
     "outputs": [
      {
       "metadata": {},
       "output_type": "pyout",
       "prompt_number": 8,
       "text": [
        "{('example',\n",
        "  'A'): {'exchanges': [{'amount': 1.0,\n",
        "    'input': ('example', 'B'),\n",
        "    'type': 'technosphere'}], 'name': 'A'},\n",
        " ('example', 'B'): {'exchanges': [], 'name': 'B'}}"
       ]
      }
     ],
     "prompt_number": 8
    },
    {
     "cell_type": "markdown",
     "metadata": {},
     "source": [
      "## Get a random dataset key\n",
      "\n",
      "If you just need an example dataset key, use the `.random()` method:"
     ]
    },
    {
     "cell_type": "code",
     "collapsed": false,
     "input": [
      "db.random()"
     ],
     "language": "python",
     "metadata": {},
     "outputs": [
      {
       "metadata": {},
       "output_type": "pyout",
       "prompt_number": 9,
       "text": [
        "('example', 'A')"
       ]
      }
     ],
     "prompt_number": 9
    },
    {
     "cell_type": "markdown",
     "metadata": {},
     "source": [
      "## Modifiying database data\n",
      "\n",
      "So far we haven't really done anything exciting yet - why do we need another LCA software anyway? \n",
      "\n",
      "The `US LCI` database has no data on uncertainty. As an American myself, I know that we basically never get anything wrong, so this makes sense to me. But let's add some uncertainty anyway - it is pretty easy. First, we don't want to mess up our original data, so we create a copy that we can modify safely:"
     ]
    },
    {
     "cell_type": "code",
     "collapsed": false,
     "input": [
      "everything_is_uncertainty = Database(\"US LCI\").copy(u\"S\u00f8ren Kierkegaard\")"
     ],
     "language": "python",
     "metadata": {},
     "outputs": [],
     "prompt_number": 2
    },
    {
     "cell_type": "markdown",
     "metadata": {},
     "source": [
      "In addition to `.copy(new_name)`, we can also `.rename(new_name)` databases.\n",
      "\n",
      "Let's give every technosphere exchange which is \n",
      "\n",
      "    1) without uncertainty data, \n",
      "    2) has a positive value, and \n",
      "    3) not a production exchange, \n",
      "   \n",
      "a [Normal](http://en.wikipedia.org/wiki/Normal_distribution) uncertainty with a standard deviation of 10% of the mean. Let's also make sure that random sampled values can't be negative:"
     ]
    },
    {
     "cell_type": "code",
     "collapsed": false,
     "input": [
      "from stats_arrays import NormalUncertainty, UndefinedUncertainty, NoUncertainty\n",
      "\n",
      "eiu_data = everything_is_uncertainty.load()\n",
      "\n",
      "for dataset in eiu_data.values():\n",
      "    for exc in dataset.get('exchanges', []):\n",
      "        if (exc.get('uncertainty type', 0) in (UndefinedUncertainty.id, NoUncertainty.id) and # Without uncertainty data\n",
      "                exc['type'] == 'technosphere' and                                             # Not biosphere or production exchange\n",
      "                exc['amount'] > 0):                                                           # Positive value\n",
      "            exc['uncertainty type'] = NormalUncertainty.id\n",
      "            exc['loc'] = exc['amount']          # Define mean value for distribution\n",
      "            exc['scale'] = exc['amount'] * 0.1  # Standard deviation is 10% of mean \n",
      "            exc['minimum'] = 0                  # Can't be negative\n",
      "\n",
      "everything_is_uncertainty.write(eiu_data)\n",
      "everything_is_uncertainty.process()"
     ],
     "language": "python",
     "metadata": {},
     "outputs": [],
     "prompt_number": 8
    },
    {
     "cell_type": "markdown",
     "metadata": {},
     "source": [
      "In fact, adding uncertainty is a common enough task that there is a utility for it already - see [bw2data.utils.uncertaintify](https://brightway2.readthedocs.org/en/latest/technical/bw2data.html#bw2data.utils.uncertainify)\n",
      "\n",
      "Let's make sure we really added some uncertainty by doing a quick MC calculation:\n",
      "\n",
      "(When you do this on your own, you may get nothing but zeros, if you get a dummy US LCI process chosen. Just run the cell until you get real values.)"
     ]
    },
    {
     "cell_type": "code",
     "collapsed": false,
     "input": [
      "mc_lca = MonteCarloLCA({everything_is_uncertainty.random(): 1}, method=methods.random())\n",
      "mc_lca.load_data()\n",
      "\n",
      "for index in range(10):\n",
      "    print mc_lca.next()"
     ],
     "language": "python",
     "metadata": {},
     "outputs": [
      {
       "output_type": "stream",
       "stream": "stdout",
       "text": [
        "0.0272881224179\n",
        "0.0248429873731\n",
        "0.0270230038215\n",
        "0.0304730365726\n",
        "0.0304653343824\n",
        "0.0288139641483\n",
        "0.0260118321824\n",
        "0.0272495301773\n",
        "0.0265688696324\n",
        "0.0265015381396"
       ]
      },
      {
       "output_type": "stream",
       "stream": "stdout",
       "text": [
        "\n"
       ]
      }
     ],
     "prompt_number": 13
    },
    {
     "cell_type": "markdown",
     "metadata": {},
     "source": [
      "## Examining database data\n",
      "\n",
      "We can also loop over our database, and try to get some useful information. For example, say we were interested in the number of exchanges in each dataset:"
     ]
    },
    {
     "cell_type": "code",
     "collapsed": false,
     "input": [
      "num_exchanges = []\n",
      "\n",
      "for dataset in eiu_data.values():\n",
      "    num_exchanges.append((len(dataset.get('exchanges', [])), dataset['name'], dataset['unit']))\n",
      "\n",
      "num_exchanges.sort(reverse=True)  # Sort by big numbers first\n",
      "num_exchanges[:10]"
     ],
     "language": "python",
     "metadata": {},
     "outputs": [
      {
       "metadata": {},
       "output_type": "pyout",
       "prompt_number": 14,
       "text": [
        "[(1201, u'Forest residue, processed and loaded, at landing system', u'ton'),\n",
        " (496, u'Zinc, Special High Grade', u'kilogram'),\n",
        " (457, u'Zinc, sheet', u'kilogram'),\n",
        " (240,\n",
        "  u'Polyol ether, for flexible foam polyurethane production, at plant, CTR',\n",
        "  u'kilogram'),\n",
        " (234,\n",
        "  u'Polyol ether, for rigid foam polyurethane production, at plant, CTR',\n",
        "  u'kilogram'),\n",
        " (234, u'Methylene diphenyl diisocyanate, resin, at plant, CTR', u'kilogram'),\n",
        " (233, u'Toluene diisocyanate, at plant, CTR', u'kilogram'),\n",
        " (231, u'Polyethylene terephthalate, resin, at plant, CTR', u'kilogram'),\n",
        " (228, u'Polyvinyl chloride, resin, at plant, CTR', u'kilogram'),\n",
        " (227,\n",
        "  u'Acrylonitrile-butadiene-styrene copolymer, resin, at plant, CTR',\n",
        "  u'kilogram')]"
       ]
      }
     ],
     "prompt_number": 14
    },
    {
     "cell_type": "markdown",
     "metadata": {},
     "source": [
      "## Backup\n",
      "\n",
      "Databases can be backed up to a format which is compatible across machines and operating systems, and is not Python-specific, called a [brightway2 package](https://brightway2.readthedocs.org/en/latest/technical/bw2data.html#bw2package):"
     ]
    },
    {
     "cell_type": "code",
     "collapsed": false,
     "input": [
      "db.backup()"
     ],
     "language": "python",
     "metadata": {},
     "outputs": [
      {
       "metadata": {},
       "output_type": "pyout",
       "prompt_number": 15,
       "text": [
        "u'/Users/cmutel/Projects/Brightway2/tutorials/bw2/export/example.1a79a4d60de6718e8e5b326e338ae533.1.bw2package'"
       ]
      }
     ],
     "prompt_number": 15
    },
    {
     "cell_type": "markdown",
     "metadata": {},
     "source": [
      "## Database versions\n",
      "\n",
      "Brightway2 has different backends that can be used to store databases, and the backend is specified per database. See [Databases can be stored in different ways](https://brightway2.readthedocs.org/en/latest/lci.html#databases-can-be-stored-in-different-ways). The default backend, which stores each Database in a single file, and is therefore called [SingleFileDatabase](https://brightway2.readthedocs.org/en/latest/technical/bw2data.html#bw2data.backends.default.database.SingleFileDatabase), provides basic data versioning. "
     ]
    },
    {
     "cell_type": "code",
     "collapsed": false,
     "input": [
      "db.version"
     ],
     "language": "python",
     "metadata": {},
     "outputs": [
      {
       "metadata": {},
       "output_type": "pyout",
       "prompt_number": 16,
       "text": [
        "1"
       ]
      }
     ],
     "prompt_number": 16
    },
    {
     "cell_type": "code",
     "collapsed": false,
     "input": [
      "db.versions()"
     ],
     "language": "python",
     "metadata": {},
     "outputs": [
      {
       "metadata": {},
       "output_type": "pyout",
       "prompt_number": 17,
       "text": [
        "[(1, datetime.datetime(2014, 6, 29, 10, 7, 19)),\n",
        " (2, datetime.datetime(2014, 6, 29, 10, 6, 56)),\n",
        " (3, datetime.datetime(2014, 6, 23, 10, 19, 39))]"
       ]
      }
     ],
     "prompt_number": 17
    },
    {
     "cell_type": "markdown",
     "metadata": {},
     "source": [
      "Oops, we overwrote the database:"
     ]
    },
    {
     "cell_type": "code",
     "collapsed": false,
     "input": [
      "db.write({\"bad data\": {\"gremlins were here\": \"oh noes!\"}})"
     ],
     "language": "python",
     "metadata": {},
     "outputs": [],
     "prompt_number": 18
    },
    {
     "cell_type": "markdown",
     "metadata": {},
     "source": [
      "If we load the database:"
     ]
    },
    {
     "cell_type": "code",
     "collapsed": false,
     "input": [
      "db.load()"
     ],
     "language": "python",
     "metadata": {},
     "outputs": [
      {
       "metadata": {},
       "output_type": "pyout",
       "prompt_number": 19,
       "text": [
        "{'bad data': {'gremlins were here': 'oh noes!'}}"
       ]
      }
     ],
     "prompt_number": 19
    },
    {
     "cell_type": "markdown",
     "metadata": {},
     "source": [
      "Which versions do we have?"
     ]
    },
    {
     "cell_type": "code",
     "collapsed": false,
     "input": [
      "db.versions()"
     ],
     "language": "python",
     "metadata": {},
     "outputs": [
      {
       "metadata": {},
       "output_type": "pyout",
       "prompt_number": 20,
       "text": [
        "[(1, datetime.datetime(2014, 6, 29, 10, 7, 19)),\n",
        " (2, datetime.datetime(2014, 6, 29, 10, 7, 23)),\n",
        " (3, datetime.datetime(2014, 6, 23, 10, 19, 39))]"
       ]
      }
     ],
     "prompt_number": 20
    },
    {
     "cell_type": "markdown",
     "metadata": {},
     "source": [
      "Revert to version 1, the good data:"
     ]
    },
    {
     "cell_type": "code",
     "collapsed": false,
     "input": [
      "db.revert(1)"
     ],
     "language": "python",
     "metadata": {},
     "outputs": [],
     "prompt_number": 21
    },
    {
     "cell_type": "code",
     "collapsed": false,
     "input": [
      "db.load()"
     ],
     "language": "python",
     "metadata": {},
     "outputs": [
      {
       "metadata": {},
       "output_type": "pyout",
       "prompt_number": 22,
       "text": [
        "{('example',\n",
        "  'A'): {'exchanges': [{'amount': 1.0,\n",
        "    'input': ('example', 'B'),\n",
        "    'type': 'technosphere'}], 'name': 'A'},\n",
        " ('example', 'B'): {'exchanges': [], 'name': 'B'}}"
       ]
      }
     ],
     "prompt_number": 22
    },
    {
     "cell_type": "markdown",
     "metadata": {},
     "source": [
      "## Deleting databases\n",
      "\n",
      "You delete databases by deleting them from the `databases` object:"
     ]
    },
    {
     "cell_type": "code",
     "collapsed": false,
     "input": [
      "# del databases[db.name]\n",
      "del databases[everything_is_uncertainty.name]"
     ],
     "language": "python",
     "metadata": {},
     "outputs": [],
     "prompt_number": 13
    },
    {
     "cell_type": "code",
     "collapsed": false,
     "input": [
      "assert databases.list == ['US LCI', 'biosphere']"
     ],
     "language": "python",
     "metadata": {},
     "outputs": [],
     "prompt_number": 24
    },
    {
     "cell_type": "markdown",
     "metadata": {},
     "source": [
      "That's it! Here is your tutorial kitten:"
     ]
    },
    {
     "cell_type": "code",
     "collapsed": false,
     "input": [
      "from IPython.display import Image\n",
      "import random\n",
      "dimensions = sorted((int(random.random() * 600 + 200), int(random.random() * 600 + 200)))\n",
      "Image(url=\"http://placekitten.com/{}/{}/\".format(*dimensions))"
     ],
     "language": "python",
     "metadata": {},
     "outputs": [
      {
       "html": [
        "<img src=\"http://placekitten.com/464/730/\"/>"
       ],
       "metadata": {},
       "output_type": "pyout",
       "prompt_number": 25,
       "text": [
        "<IPython.core.display.Image at 0x110f22610>"
       ]
      }
     ],
     "prompt_number": 25
    },
    {
     "cell_type": "code",
     "collapsed": false,
     "input": [],
     "language": "python",
     "metadata": {},
     "outputs": [],
     "prompt_number": 25
    }
   ],
   "metadata": {}
  }
 ]
}
