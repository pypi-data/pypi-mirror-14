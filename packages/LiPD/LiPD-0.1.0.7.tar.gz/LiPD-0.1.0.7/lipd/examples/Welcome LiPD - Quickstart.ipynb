{
 "cells": [
  {
   "cell_type": "markdown",
   "metadata": {},
   "source": [
    "<div class=\"clearfix\" style=\"padding: 10px; padding-left: 0px; padding-top: 40px\">\n",
    "<img src=\"https://www.dropbox.com/s/l0o12cqhgfyak65/lipd_logo.png?raw=1\" width=\"350px\" style=\"display: inline-block; margin: 0px;\">\n",
    "</div>\n",
    "\n",
    "## Welcome to the LiPD Quickstart Notebook!\n",
    "\n",
    "This Notebook was created to help you get familiar with the Jupyter Notebook interface, and what type of commands you can use in LiPD. Follow each step and experiment as much as you'd like!\n",
    "\n",
    "### Table of Contents\n",
    "  * [Run a cell!](#runcell)\n",
    "  * [Imports](#imports)\n",
    "  * [Magic commands](#magic)\n",
    "\n",
    "<div class=\"alert alert-warning\" role=\"alert\" style=\"margin: 10px\">\n",
    "<p>**WARNING**</p>\n",
    "\n",
    "<p>Don't rely on this server for anything you want to last - your server will be *deleted after 10 minutes of inactivity*.</p>\n",
    "</div>\n",
    "\n",
    "\n",
    "Build each cell example on top of the previous.\n",
    "Make the user try more and more. Get hands-on\n",
    "\n",
    "\n",
    "How to execute a python cell\n",
    "How to import the lipd package\n",
    "List the functions available\n",
    "\n",
    "Walk through some examples\n",
    "* import the lipd package\n",
    "* execute cell\n",
    "* find folder of files on local computer\n",
    "* show what files were loaded (MAYBE LOAD IN ALL TXT, EXCEL, and LIPD FILES AND INCLUDE DOI AND CONVERSION FUNCTIONS IN THIS INSTEAD OF AS A SEPARATE WORKFLOW)\n",
    "* maybe update the DOI information\n",
    "* maybe convert an excel file\n",
    "* maybe plot a map from a lipd file\n",
    "* make a time series\n",
    "\n",
    "\n"
   ]
  },
  {
   "cell_type": "markdown",
   "metadata": {},
   "source": [
    "### Run a cell! <a id=\"runcell\"></a>\n",
    "\n",
    "The cell below is a Python cell that contains a simple function. In order to run its code, you must:\n",
    "\n",
    "1. Click on the cell to select it.\n",
    "2. Press `SHIFT+ENTER` on your keyboard or press the play button (<button class='fa fa-play icon-play btn btn-xs btn-default'></button>) in the toolbar above.\n",
    "3. Confirm that \"Congrats! You ran your first code cell!\" is in the output.\n",
    "\n",
    "<div class=\"alert alert-warning\" role=\"alert\" style=\"margin: 10px\">\n",
    "<p>**NOTE**</p>\n",
    "<p>Not every cell will have output and it may seem like it was not run. The best way to check is to look for the border outline around a cell. If the next cell down has the border outline, then that means you ran the cell successfully. </p>\n",
    "</div>"
   ]
  },
  {
   "cell_type": "code",
   "execution_count": null,
   "metadata": {
    "collapsed": false,
    "scrolled": true
   },
   "outputs": [],
   "source": [
    "def run_a_cell():\n",
    "    print(\"Congrats! You ran your first code cell!\")\n",
    "\n",
    "run_a_cell()"
   ]
  },
  {
   "cell_type": "markdown",
   "metadata": {},
   "source": [
    "### Import a package <a id=\"imports\"></a>\n",
    "\n",
    "Before we can use any package, it must be imported into the environment. In this case, we want to import the LiPD package. \n",
    "\n",
    "1. Declare which package to import\n",
    "2. Run the cell.\n"
   ]
  },
  {
   "cell_type": "code",
   "execution_count": null,
   "metadata": {
    "collapsed": true
   },
   "outputs": [],
   "source": [
    "# Import a package\n",
    "from lipd import main as m"
   ]
  },
  {
   "cell_type": "markdown",
   "metadata": {},
   "source": [
    "### Magic commands <a id=\"magic\"></a>\n",
    "\n",
    "Jupyter has an extensive list of special functions called Magic commands. These commands are built-in and can be run from anywhere. They are generally identified by their preceding % sign.\n",
    "\n",
    "Let's practice with the \"%whos\" command. This command will let us check if our LiPD module was successfully imported.\n",
    "\n",
    "1. Run the cell\n",
    "2. Confirm that the \"lipd\" variable is listed with the type \"module\".\n",
    "\n",
    "For more information on magic commands, run the \"%magic\" command."
   ]
  },
  {
   "cell_type": "code",
   "execution_count": null,
   "metadata": {
    "collapsed": false
   },
   "outputs": [],
   "source": [
    "# Show all variables in the environment\n",
    "%whos"
   ]
  },
  {
   "cell_type": "code",
   "execution_count": null,
   "metadata": {
    "collapsed": true
   },
   "outputs": [],
   "source": []
  }
 ],
 "metadata": {
  "kernelspec": {
   "display_name": "Python 3",
   "language": "python",
   "name": "python3"
  },
  "language_info": {
   "codemirror_mode": {
    "name": "ipython",
    "version": 3
   },
   "file_extension": ".py",
   "mimetype": "text/x-python",
   "name": "python",
   "nbconvert_exporter": "python",
   "pygments_lexer": "ipython3",
   "version": "3.4.1"
  }
 },
 "nbformat": 4,
 "nbformat_minor": 0
}
