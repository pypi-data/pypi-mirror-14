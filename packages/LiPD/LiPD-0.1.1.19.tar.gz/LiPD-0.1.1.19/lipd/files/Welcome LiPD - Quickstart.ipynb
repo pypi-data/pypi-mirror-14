{
 "cells": [
  {
   "cell_type": "markdown",
   "metadata": {},
   "source": [
    "<div class=\"clearfix\" style=\"padding: 10px; padding-left: 0px; padding-top: 40px\">\n",
    "<img src=\"https://www.dropbox.com/s/y8dd1z3sl4uofep/lipd_logo.png?raw=1\" width=\"700px\" class=\"pull-right\" style=\"display: inline-block; margin: 0px;\">\n",
    "</div>\n",
    "\n",
    "## Welcome to the LiPD Quickstart Notebook!\n",
    "\n",
    "This Notebook was created to help you get familiar with the Jupyter Notebook interface, and what type of commands you can use in LiPD. Follow each step and experiment as much as you'd like! Each step will help prepare you for the next step. As you get more advanced, feel free to read further in the Jupyter Documentation or \n",
    "\n",
    "### Table of Contents\n",
    "  * [Run a cell](#runcell)\n",
    "  * [Magic commands](#magic)\n",
    "  * [Help](#help)\n",
    "  * [Imports](#imports)\n",
    "  * [Functions](#functions)\n",
    "  * [Are the modules loaded?](#loaded)\n",
    "  * [Autocomplete](#autocomplete)\n",
    "  * [Getting started with LiPD](#lipd)\n",
    "  * [LiPD Functions](#lipdfns)\n",
    "  * [Excel Converter](#excel)\n",
    "  * [NOAA Converter](#noaa)\n",
    "  * [DOI Updater](#doi)\n",
    "  * [Load LiPDs](#loadlipds)\n",
    "  * [Viewing LiPD data](#lipddata)\n",
    "  * [Extract TimeSeries](#timeseries)\n",
    "  * [Remove files](#removelipds)\n",
    "  * [Glossary](#glossary)\n",
    "\n",
    "\n"
   ]
  },
  {
   "cell_type": "markdown",
   "metadata": {},
   "source": [
    "### Run a cell <a id=\"runcell\"></a>\n",
    "\n",
    "The cell below is a Python cell that contains a simple function. In order to run its code, you must:\n",
    "\n",
    "1. Click on the cell to select it.\n",
    "2. Press `SHIFT+ENTER` on your keyboard or press the \"run cell\" button in the toolbar above.\n",
    "3. Confirm that \"Congrats! You ran your first code cell!\" was printed below the cell.\n",
    "\n",
    "<div class=\"alert alert-warning\" role=\"alert\" style=\"margin: 10px\">\n",
    "<p>**NOTE**</p>\n",
    "<p>Not every cell will have output and it may seem like it was not run. Check which cell is selected. After you run a cell, the next cell down should be selected. </p>\n",
    "</div>"
   ]
  },
  {
   "cell_type": "code",
   "execution_count": null,
   "metadata": {
    "collapsed": false,
    "scrolled": true
   },
   "outputs": [],
   "source": [
    "print(\"Congrats! You ran your first code cell!\")"
   ]
  },
  {
   "cell_type": "markdown",
   "metadata": {},
   "source": [
    "### Magic commands <a id=\"magic\"></a>\n",
    "\n",
    "Jupyter has an extensive list of special functions called Magic commands. These commands are built-in and can be run from anywhere. They are generally identified by their preceding % sign.\n",
    "\n",
    "Let's practice with the \"%quickref\" command. This command will give a cheat sheet of useful commands.\n",
    "\n",
    "1. Run the cell\n",
    "2. Confirm that the documentation appears\n",
    "\n",
    "_For a full list of magic commands, run the %magic command._"
   ]
  },
  {
   "cell_type": "code",
   "execution_count": null,
   "metadata": {
    "collapsed": true
   },
   "outputs": [],
   "source": [
    "%quickref"
   ]
  },
  {
   "cell_type": "markdown",
   "metadata": {},
   "source": [
    "### Help and Documentation <a id=\"help\"></a>\n",
    "\n",
    "Not everything is self-explanatory. If you find yourself getting stuck, refer to the documentation for help. Most of the time, a simple question mark (?) after your command can give you plenty of information about it.\n",
    "\n",
    "Try to retrieve the documentation for these magic commands:\n",
    "* `%matplotlib`\n",
    "* `%pastebin`\n",
    "* `%history`\n"
   ]
  },
  {
   "cell_type": "code",
   "execution_count": null,
   "metadata": {
    "collapsed": false
   },
   "outputs": [],
   "source": [
    "%matplotlib?"
   ]
  },
  {
   "cell_type": "markdown",
   "metadata": {},
   "source": [
    "### Import a package <a id=\"imports\"></a>\n",
    "\n",
    "Before we can use any package, it must be imported into the environment. Let's practice by importing the datetime module.\n",
    "\n",
    "1. Declare which package to import\n",
    "2. Run the cell\n",
    "\n",
    "<div class=\"alert alert-warning\" role=\"alert\" style=\"margin: 10px\">\n",
    "<p>**NOTE**</p>\n",
    "<p>Generally, imports will not show an output</p>\n",
    "</div>"
   ]
  },
  {
   "cell_type": "code",
   "execution_count": null,
   "metadata": {
    "collapsed": false
   },
   "outputs": [],
   "source": [
    "import datetime"
   ]
  },
  {
   "cell_type": "markdown",
   "metadata": {},
   "source": [
    "### Functions <a id=\"functions\"></a>\n",
    "\n",
    "The LiPD package should cover all the functions you need, but if you'd like to write your own functions you can! Run the cell below and it will import some example functions into the environment.\n",
    "\n",
    "1. Run the cell\n",
    "2. Functions are now in the environment\n",
    "\n",
    "What happened? \n",
    "* Some example functions were loaded from an external python file\n",
    "* The \"example_function()\" is loaded from the cell\n",
    "\n",
    "_To learn about Python functions and more, visit [python.org](http://pythonprogramminglanguage.com)_"
   ]
  },
  {
   "cell_type": "code",
   "execution_count": null,
   "metadata": {
    "collapsed": false
   },
   "outputs": [],
   "source": [
    "# %run Magic Command: run a python script\n",
    "%run ./examples/quickstart_functions.py\n",
    "\n",
    "# Create a python function\n",
    "def example_function():\n",
    "    print(\"This is a custom function\")\n",
    "    return"
   ]
  },
  {
   "cell_type": "markdown",
   "metadata": {
    "collapsed": true
   },
   "source": [
    "### Are the modules loaded? <a id=\"loaded\"></a>\n",
    "\n",
    "Sometimes it's helpful to see a complete snapshot of your Notebook. If you want to be sure that modules and functions are loaded correctly, the `%whos` magic command is a great way to do that. Now that we have some custom functions and modules loaded, let's try the `%whos` command.\n",
    "\n",
    "1. Run the cell\n",
    "2. Confirm that the list includes our custom functions and modules from the previous steps"
   ]
  },
  {
   "cell_type": "code",
   "execution_count": null,
   "metadata": {
    "collapsed": false
   },
   "outputs": [],
   "source": [
    "# %whos Magic Command: Show all variables in the environment\n",
    "%whos"
   ]
  },
  {
   "cell_type": "markdown",
   "metadata": {},
   "source": [
    "### Autocomplete <a id=\"autocomplete\"></a>\n",
    "\n",
    "Autocomplete remembers names so you don't have to. It will help you finish a command with a partial name. As the Notebook grows, the list of variables, functions, and modules can be overwhelming. Start typing the name of what you're looking for, and then press `TAB` to show a filtered list.\n",
    "\n",
    "Try the two examples below!\n",
    "\n",
    "<div class=\"alert alert-warning\" role=\"alert\" style=\"margin: 10px\">\n",
    "<p>**NOTE**</p>\n",
    "<p> <b>Referencing</b> a function and <b>running</b> are not the same thing. For example, running <code class=\"inlinecode\">tell_me_a_joke</code> will give you information about the function. However, running <code class=\"inlinecode\">tell_me_a_joke()</code> will run the function.</p>\n",
    "</div>"
   ]
  },
  {
   "cell_type": "markdown",
   "metadata": {},
   "source": [
    "#### Autocomplete: Example 1\n",
    "\n",
    "-----\n",
    "\n",
    "If there is only one match for your input, the whole function autocompletes for you.\n",
    "\n",
    "Function: <pre>tell_me_a_joke()</pre>\n",
    "\n",
    "1. Type \"tell\"\n",
    "2. Press `TAB` key\n",
    "3. Add \"()\" at the end of the function name\n",
    "4. Run the cell"
   ]
  },
  {
   "cell_type": "code",
   "execution_count": null,
   "metadata": {
    "collapsed": false
   },
   "outputs": [],
   "source": [
    "# Autocomplete: Example 1\n",
    "tell_me_a_joke()"
   ]
  },
  {
   "cell_type": "markdown",
   "metadata": {},
   "source": [
    "#### Autocomplete: Example 2\n",
    "\n",
    "-----\n",
    "\n",
    "If there are multiple matches for your input, autocomplete provides a list of options.\n",
    "\n",
    "Function: <pre>what_time_is_it()</pre>\n",
    "\n",
    "1. Type \"what\"\n",
    "2. Press the `TAB` key\n",
    "3. Use the `UP` and `DOWN` arrow keys to highlight the function\n",
    "4. Press `ENTER` to choose the function\n",
    "3. Add `()` at the end of the function name\n",
    "4. Run the cell"
   ]
  },
  {
   "cell_type": "code",
   "execution_count": null,
   "metadata": {
    "collapsed": false
   },
   "outputs": [],
   "source": [
    "# Autocomplete: Example 2\n",
    "what_time_is_it()"
   ]
  },
  {
   "cell_type": "markdown",
   "metadata": {},
   "source": [
    "###  Getting started with LiPD <a id=\"lipd\"></a>\n",
    "\n",
    "Now that you've covered some of the basics, let's look how to get started with the LiPD package. For this tutorial we will be using the example files included in the default Notebooks folder.\n",
    "\n",
    "1. Import the LiPD package from your system\n",
    "2. Run the cell\n",
    "3. A browse dialog window will ask you where your files are stored\n",
    "4. Choose option \"2\" and browse to the `examples` folder at `/<your_name>/LiPD_Notebooks/examples`\n",
    "\n",
    "<div class=\"alert alert-warning\" role=\"alert\" style=\"margin: 10px\">\n",
    "<p>**NOTE**</p>\n",
    "<p> The Notebooks folder is created in the root of the user directory on your computer. You may find it at `/<your_name>/LiPD_Notebooks`.\n",
    "\n",
    "</p>\n",
    "</div>"
   ]
  },
  {
   "cell_type": "code",
   "execution_count": 1,
   "metadata": {
    "collapsed": false
   },
   "outputs": [
    {
     "data": {
      "text/html": [
       "\n",
       "    <div class=\"bk-banner\">\n",
       "        <a href=\"http://bokeh.pydata.org\" target=\"_blank\" class=\"bk-logo bk-logo-small bk-logo-notebook\"></a>\n",
       "        <span id=\"ef5f954b-ce79-4acb-8dc4-7083405524e4\">Loading BokehJS ...</span>\n",
       "    </div>"
      ]
     },
     "metadata": {},
     "output_type": "display_data"
    },
    {
     "data": {
      "application/javascript": [
       "\n",
       "(function(global) {\n",
       "  function now() {\n",
       "    return new Date();\n",
       "  }\n",
       "\n",
       "  if (typeof (window._bokeh_onload_callbacks) === \"undefined\") {\n",
       "    window._bokeh_onload_callbacks = [];\n",
       "  }\n",
       "\n",
       "  function run_callbacks() {\n",
       "    window._bokeh_onload_callbacks.forEach(function(callback) { callback() });\n",
       "    delete window._bokeh_onload_callbacks\n",
       "    console.info(\"Bokeh: all callbacks have finished\");\n",
       "  }\n",
       "\n",
       "  function load_libs(js_urls, callback) {\n",
       "    window._bokeh_onload_callbacks.push(callback);\n",
       "    if (window._bokeh_is_loading > 0) {\n",
       "      console.log(\"Bokeh: BokehJS is being loaded, scheduling callback at\", now());\n",
       "      return null;\n",
       "    }\n",
       "    if (js_urls == null || js_urls.length === 0) {\n",
       "      run_callbacks();\n",
       "      return null;\n",
       "    }\n",
       "    console.log(\"Bokeh: BokehJS not loaded, scheduling load and callback at\", now());\n",
       "    window._bokeh_is_loading = js_urls.length;\n",
       "    for (var i = 0; i < js_urls.length; i++) {\n",
       "      var url = js_urls[i];\n",
       "      var s = document.createElement('script');\n",
       "      s.src = url;\n",
       "      s.async = false;\n",
       "      s.onreadystatechange = s.onload = function() {\n",
       "        window._bokeh_is_loading--;\n",
       "        if (window._bokeh_is_loading === 0) {\n",
       "          console.log(\"Bokeh: all BokehJS libraries loaded\");\n",
       "          run_callbacks()\n",
       "        }\n",
       "      };\n",
       "      s.onerror = function() {\n",
       "        console.warn(\"failed to load library \" + url);\n",
       "      };\n",
       "      console.log(\"Bokeh: injecting script tag for BokehJS library: \", url);\n",
       "      document.getElementsByTagName(\"head\")[0].appendChild(s);\n",
       "    }\n",
       "  };\n",
       "\n",
       "  var js_urls = ['https://cdn.pydata.org/bokeh/release/bokeh-0.11.1.min.js', 'https://cdn.pydata.org/bokeh/release/bokeh-widgets-0.11.1.min.js', 'https://cdn.pydata.org/bokeh/release/bokeh-compiler-0.11.1.min.js'];\n",
       "\n",
       "  var inline_js = [\n",
       "    function(Bokeh) {\n",
       "      Bokeh.set_log_level(\"info\");\n",
       "    },\n",
       "    \n",
       "    function(Bokeh) {\n",
       "      Bokeh.$(\"#ef5f954b-ce79-4acb-8dc4-7083405524e4\").text(\"BokehJS successfully loaded\");\n",
       "    },\n",
       "    function(Bokeh) {\n",
       "      console.log(\"Bokeh: injecting CSS: https://cdn.pydata.org/bokeh/release/bokeh-0.11.1.min.css\");\n",
       "      Bokeh.embed.inject_css(\"https://cdn.pydata.org/bokeh/release/bokeh-0.11.1.min.css\");\n",
       "      console.log(\"Bokeh: injecting CSS: https://cdn.pydata.org/bokeh/release/bokeh-widgets-0.11.1.min.css\");\n",
       "      Bokeh.embed.inject_css(\"https://cdn.pydata.org/bokeh/release/bokeh-widgets-0.11.1.min.css\");\n",
       "    }\n",
       "  ];\n",
       "\n",
       "  function run_inline_js() {\n",
       "    for (var i = 0; i < inline_js.length; i++) {\n",
       "      inline_js[i](window.Bokeh);\n",
       "    }\n",
       "  }\n",
       "\n",
       "  if (window._bokeh_is_loading === 0) {\n",
       "    console.log(\"Bokeh: BokehJS loaded, going straight to plotting\");\n",
       "    run_inline_js();\n",
       "  } else {\n",
       "    load_libs(js_urls, function() {\n",
       "      console.log(\"Bokeh: BokehJS plotting callback run at\", now());\n",
       "      run_inline_js();\n",
       "    });\n",
       "  }\n",
       "}(this));"
      ]
     },
     "metadata": {},
     "output_type": "display_data"
    },
    {
     "name": "stdout",
     "output_type": "stream",
     "text": [
      "Where are your files stored?\n",
      "1. Online URL\n",
      "2. Browse Computer\n",
      "3. Downloads folder\n",
      "4. Notebooks folder\n",
      "\n",
      "Option: 4\n"
     ]
    }
   ],
   "source": [
    "# Import the LiPD package and locate your files\n",
    "from lipd.start import *"
   ]
  },
  {
   "cell_type": "markdown",
   "metadata": {},
   "source": [
    "##  LiPD functions <a id=\"lipdfns\"></a>\n",
    "\n",
    "What happened? \n",
    "* All the LiPD commands are now available in Jupyter\n",
    "* A target folder containing files has been set\n",
    "\n",
    "There are a few paths you can take from here. It all depends on what you'd like to accomplish and what files you provided. Look at the sections below to see about the specific processes. \n",
    "\n",
    "\n"
   ]
  },
  {
   "cell_type": "markdown",
   "metadata": {},
   "source": [
    "####  Excel Spreadsheet Converter <a id=\"excel\"></a>\n",
    "\n",
    "-----\n",
    "\n",
    "Microsoft Excel spreadsheets (`.xls`, `.xlsx`) must be converted to LiPD before any data analysis can be done. The converter is designed to parse data from the spreadsheet template provided. Please insert your data in this template format to ensure a complete and accurate conversion to LiPD.\n",
    "\n",
    "Template File: [Excel_Template.xlsx](https://dl.dropboxusercontent.com/s/r9fdxko5yvirho1/excel_template.xlsx?dl=1)\n",
    "\n",
    "The converter will run for every `.xls` and `.xlsx` file in the target folder previously chosen.\n"
   ]
  },
  {
   "cell_type": "code",
   "execution_count": null,
   "metadata": {
    "collapsed": false
   },
   "outputs": [],
   "source": [
    "excel()"
   ]
  },
  {
   "cell_type": "markdown",
   "metadata": {},
   "source": [
    "####  NOAA Converter <a id=\"noaa\"></a>\n",
    "\n",
    "-----\n",
    "\n",
    "National Oceanic and Atmospheric Administration (NOAA) text files (`.txt`) must be converted to LiPD before any data analysis can be done. The converter is designed to parse data from the NOAA template provided. Please insert your data in this template format to ensure a complete and accurate conversion to LiPD.\n",
    "\n",
    "Template File: [NOAA_Template.txt](https://dl.dropboxusercontent.com/s/f0dzcug1tyvgowc/noaa-blank.txt?dl=1)\n",
    "\n",
    "The converter will run for every `.txt` file in the target folder previously chosen.\n"
   ]
  },
  {
   "cell_type": "code",
   "execution_count": null,
   "metadata": {
    "collapsed": false
   },
   "outputs": [],
   "source": [
    "noaa()"
   ]
  },
  {
   "cell_type": "markdown",
   "metadata": {},
   "source": [
    "####  DOI Updater <a id=\"doi\"></a>\n",
    "\n",
    "-----\n",
    "\n",
    "The DOI updater will take your LiPD files and update them with the most recent information provided by [doi.org](doi.org). The updater will run once per LiPD, and will skip any LiPDS that have already been updated previously. \n",
    "\n",
    "<div class=\"alert alert-warning\" role=\"alert\" style=\"margin: 10px\">\n",
    "<p>**NOTE**</p>\n",
    "<p> If you are planning to do data analysis, you will need to run the DOI updater before calling `loadLipds()`. This will make sure that the data being loaded is the updated DOI data. \n",
    "</p>\n",
    "</div>"
   ]
  },
  {
   "cell_type": "code",
   "execution_count": null,
   "metadata": {
    "collapsed": false
   },
   "outputs": [],
   "source": [
    "doi()"
   ]
  },
  {
   "cell_type": "markdown",
   "metadata": {},
   "source": [
    "####  Loading LiPD files <a id=\"loadlipds\"></a>\n",
    "\n",
    "-----\n",
    "\n",
    "`loadLipds()`<br>\n",
    "* Import all the the LiPD files from your target folder into a collection called a LiPD Library. The LiPD library holds data for each LiPD file.\n",
    "<br>\n",
    "\n",
    "`showLipds()`<br>\n",
    "* Show the names of the LiPD files in the current LiPD Library.\n"
   ]
  },
  {
   "cell_type": "code",
   "execution_count": 2,
   "metadata": {
    "collapsed": false
   },
   "outputs": [
    {
     "name": "stdout",
     "output_type": "stream",
     "text": [
      "Found: 3 LiPD file(s)\n",
      "processing: O2kLR-EasterntropiKuhnert.2011.GeoB9501-4.GeoB9501-5.lpd\n",
      "processing: ODP1098B.lpd\n",
      "processing: SAm-LagunaChepicdeJong2013.lpd\n",
      "Process Complete\n"
     ]
    }
   ],
   "source": [
    "loadLipds()"
   ]
  },
  {
   "cell_type": "code",
   "execution_count": null,
   "metadata": {
    "collapsed": false
   },
   "outputs": [],
   "source": [
    "showLipds()"
   ]
  },
  {
   "cell_type": "markdown",
   "metadata": {},
   "source": [
    "####  Viewing LiPD Data  <a id=\"lipddata\"></a>\n",
    "\n",
    "----\n",
    "\n",
    "`showCsv(filename)`<br>\n",
    "* Show the CSV data for the target LiPD file.\n",
    "<br>\n",
    "\n",
    "`showMetadata(filename)`<br>\n",
    "* Show the metadata for the target LiPD file.\n",
    "<br>\n",
    "\n",
    "`showMap(filename)`<br>\n",
    "* Show a map with location markers for one, several, or all LiPDs. \n",
    "\n",
    "<div class=\"alert alert-warning\" role=\"alert\" style=\"margin: 10px\">\n",
    "<p>**NOTE**</p>\n",
    "    <p> showMap() can display one, multiple, or all locations.</p>\n",
    "    <ul>\n",
    "        <li>One location: `showMap(\"Ant-CoastalDML.Thamban.2006.lpd\")`<br>\n",
    "        <li>Multiple locations: `showMap(\"Ant-CoastalDML.Thamban.2006.lpd, NAm-cana392.lpd\")`\n",
    "        <li>All locations: `showMap()`\n",
    "    </ul>\n",
    "</div>"
   ]
  },
  {
   "cell_type": "code",
   "execution_count": null,
   "metadata": {
    "collapsed": false
   },
   "outputs": [],
   "source": [
    "showCsv(\"Asia-LakeXimencuo2013xmc6.lpd\")"
   ]
  },
  {
   "cell_type": "code",
   "execution_count": null,
   "metadata": {
    "collapsed": false
   },
   "outputs": [],
   "source": [
    "showMetadata(\"Asia-LakeXimencuo2013xmc6.lpd\")"
   ]
  },
  {
   "cell_type": "code",
   "execution_count": null,
   "metadata": {
    "collapsed": false
   },
   "outputs": [],
   "source": [
    "showMap(\"Asia-LakeXimencuo2013xmc6.lpd\")"
   ]
  },
  {
   "cell_type": "markdown",
   "metadata": {},
   "source": [
    "#### Extract TimeSeries  <a id=\"timeseries\"></a>\n",
    "\n",
    "----\n",
    "\n",
    "Extract TimeSeries is able to pull LiPD data from the LiPD Library and put it into a data structure that makes sense for analyzation and computation. Similar to our LiPD Library, this command will create a TimeSeries Library that holds many entries.\n",
    "\n",
    "`extractTimeSeries()`<br>\n",
    "* Creates a TimeSeries from the data in the LiPD Library.\n",
    "<br>\n",
    "\n",
    "`showTso(filename)`\n",
    "* Show the metadata for one TimeSeries object.\n",
    "\n",
    "`showTsos()`<br>\n",
    "* Shows the names of the TimeSeries objects in the TimeSeries Library.\n",
    "\n",
    "`exportTimeSeries()`\n",
    "* Exports the TimeSeries Library back into the LiPD Library. \n",
    "\n",
    "<div class=\"alert alert-warning\" role=\"alert\" style=\"margin: 10px\">\n",
    "<p>**WARNING**</p>\n",
    "    <p>`exportTimeSeries()` will overwrite the contents of the LiPD Library</p>\n",
    "</div>"
   ]
  },
  {
   "cell_type": "code",
   "execution_count": null,
   "metadata": {
    "collapsed": false
   },
   "outputs": [],
   "source": [
    "extractTimeSeries()"
   ]
  },
  {
   "cell_type": "code",
   "execution_count": null,
   "metadata": {
    "collapsed": false
   },
   "outputs": [],
   "source": [
    "showTsos()"
   ]
  },
  {
   "cell_type": "code",
   "execution_count": null,
   "metadata": {
    "collapsed": false
   },
   "outputs": [],
   "source": [
    "showTso(\"dataset_Data_year\")"
   ]
  },
  {
   "cell_type": "code",
   "execution_count": null,
   "metadata": {
    "collapsed": false
   },
   "outputs": [],
   "source": [
    "exportTimeSeries()"
   ]
  },
  {
   "cell_type": "markdown",
   "metadata": {},
   "source": [
    "####  Removing LiPDs <a id=\"removelipds\"></a>\n",
    "----\n",
    "\n",
    "`removeLipd(filename)`\n",
    "* Remove one LiPD entry from the LiPD Library\n",
    "\n",
    "`removeLipds()`\n",
    "* Remove all LiPD entries from the LiPD Library"
   ]
  },
  {
   "cell_type": "code",
   "execution_count": null,
   "metadata": {
    "collapsed": false
   },
   "outputs": [],
   "source": [
    "removeLipds()"
   ]
  },
  {
   "cell_type": "code",
   "execution_count": null,
   "metadata": {
    "collapsed": false
   },
   "outputs": [],
   "source": [
    "# Now try to showLipds() to see that the LiPD Library is empty\n",
    "showLipds()"
   ]
  },
  {
   "cell_type": "markdown",
   "metadata": {},
   "source": [
    "####  Saving <a id=\"saving\"></a>\n",
    "----\n",
    "\n",
    "`saveLipds()`\n",
    "* Saves each LiPD in the LiPD Library back to your computer as a LiPD file.\n"
   ]
  },
  {
   "cell_type": "markdown",
   "metadata": {},
   "source": [
    "## Glossary <a id=\"glossary\"></a>\n",
    "\n",
    "----\n",
    "\n",
    "<div style=\"background-color: #f2f2f2\">\n",
    "<dl style=\"padding-top=20px\">\n",
    "\n",
    "<dt style=\"margin-left: 0.5em\"> DOI </dt><br>\n",
    "<dd style= \"margin-left: 2em\"> A Digital Object Identifier is a unique alphanumeric string assigned by a registration agency to identify content and provide a persistent link to its location on the Internet. The publisher assigns a DOI when your article is published and made available electronically. </dd><br>\n",
    "\n",
    "<dt style=\"margin-left: 0.5em\"> Environment / Workspace </dt><br>\n",
    "<dd style= \"margin-left: 2em\"> The current state of the Notebook. Variables and modules in the Notebook are constantly changing, and all of these contribute to the state of the workspace. </dd><br>\n",
    "\n",
    "<dt style=\"margin-left: 0.5em\"> LiPD </dt><br>\n",
    "<dd style= \"margin-left: 2em\"> Refers to the LiPD package or LiPD files, depending on the context.  </dd><br>\n",
    "\n",
    "<dt style=\"margin-left: 0.5em\"> LiPD Library </dt><br>\n",
    "<dd style= \"margin-left: 2em\"> A collection of LiPD file data. </dd><br>\n",
    "\n",
    "<dt style=\"margin-left: 0.5em\"> Module </dt><br>\n",
    "<dd style= \"margin-left: 2em\"> A set of related functions that is imported for use in the Notebook.</dd><br>\n",
    "\n",
    "<dt style=\"margin-left: 0.5em\"> NOAA </dt><br>\n",
    "<dd style= \"margin-left: 2em\"> National Oceanic and Atmospheric Administration. This document uses NOAA to signify a specific text file format used by the organization. </dd><br>\n",
    "\n",
    "<dt style=\"margin-left: 0.5em\"> Notebook </dt><br>\n",
    "<dd style= \"margin-left: 2em\"> Jupyter uses Notebooks as a way to save a single session of workflow and scientific computations. This Quickstart Notebook is for learning and documentation, though you may later create your own Notebooks with graphs, functions, and various datasets. </dd><br>\n",
    "\n",
    "<dt style=\"margin-left: 0.5em\"> Magic Commands </dt><br>\n",
    "<dd style= \"margin-left: 2em\"> Special built-in Jupyter commands that provide common useful functions that \"magically\" work. </dd><br>\n",
    "\n",
    "<dt style=\"margin-left: 0.5em\"> TimeSeries Library </dt><br>\n",
    "<dd style= \"margin-left: 2em\"> A collection of TimeSeries data and objects. </dd><br>\n",
    "\n",
    "<dt style=\"margin-left: 0.5em\"> TimeSeries Object </dt><br>\n",
    "<dd style= \"margin-left: 2em\"> An extracted piece of the TimeSeries from a LiPD file. </dd><br>\n",
    "\n",
    "</dl>\n",
    "</div>"
   ]
  }
 ],
 "metadata": {
  "kernelspec": {
   "display_name": "Python 3",
   "language": "python",
   "name": "python3"
  },
  "language_info": {
   "codemirror_mode": {
    "name": "ipython",
    "version": 3
   },
   "file_extension": ".py",
   "mimetype": "text/x-python",
   "name": "python",
   "nbconvert_exporter": "python",
   "pygments_lexer": "ipython3",
   "version": "3.4.1"
  }
 },
 "nbformat": 4,
 "nbformat_minor": 0
}
