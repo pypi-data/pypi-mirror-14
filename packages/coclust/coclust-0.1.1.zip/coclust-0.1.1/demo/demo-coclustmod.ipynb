{
 "cells": [
  {
   "cell_type": "code",
   "execution_count": 7,
   "metadata": {
    "collapsed": false
   },
   "outputs": [
    {
     "name": "stdout",
     "output_type": "stream",
     "text": [
      "NMI: 0.598035847929\n",
      "MODULARITY: 0.441279913335\n"
     ]
    },
    {
     "data": {
      "image/png": "[encoded data removed]",
      "text/plain": [
       "<matplotlib.figure.Figure at 0x8bbf0b8>"
      ]
     },
     "metadata": {},
     "output_type": "display_data"
    }
   ],
   "source": [
    "%matplotlib inline\n",
    "import matplotlib.pyplot as plt\n",
    "from scipy.io import loadmat\n",
    "from coclust.CoclustMod import CoclustMod\n",
    "import numpy as np\n",
    "\n",
    "from coclust.utils import initialization\n",
    "from imp import reload\n",
    "reload(initialization)\n",
    "\n",
    "# Retrieve the CSTR  document-term matrix from a matlab file\n",
    "file_name = \"../datasets/cstr.mat\"\n",
    "matlab_dict = loadmat(file_name)\n",
    "X = matlab_dict['fea']\n",
    "\n",
    "# Create and fit a model with 4 co-clusters\n",
    "model = CoclustMod(n_clusters=4)\n",
    "model.fit(X)\n",
    "\n",
    "# Use the computed and true row labels to compute the NMI\n",
    "from sklearn.metrics.cluster import normalized_mutual_info_score as nmi\n",
    "true_row_labels = matlab_dict['gnd'].flatten()\n",
    "predicted_row_labels = model.row_labels_\n",
    "print(\"NMI:\" ,nmi(true_row_labels, predicted_row_labels))\n",
    "\n",
    "# Plot modularities \n",
    "print(\"MODULARITY:\",model.modularity)\n",
    "plt.plot(model.modularities,marker='o')\n",
    "plt.ylabel('Modularities')\n",
    "plt.xlabel('Iterations')\n",
    "plt.show()"
   ]
  },
  {
   "cell_type": "code",
   "execution_count": 3,
   "metadata": {
    "collapsed": false
   },
   "outputs": [],
   "source": [
    "import inspect"
   ]
  },
  {
   "cell_type": "code",
   "execution_count": null,
   "metadata": {
    "collapsed": true
   },
   "outputs": [],
   "source": [
    "inspect.getsource()"
   ]
  }
 ],
 "metadata": {
  "kernelspec": {
   "display_name": "Python 3",
   "language": "python",
   "name": "python3"
  },
  "language_info": {
   "codemirror_mode": {
    "name": "ipython",
    "version": 3
   },
   "file_extension": ".py",
   "mimetype": "text/x-python",
   "name": "python",
   "nbconvert_exporter": "python",
   "pygments_lexer": "ipython3",
   "version": "3.4.4"
  }
 },
 "nbformat": 4,
 "nbformat_minor": 0
}
