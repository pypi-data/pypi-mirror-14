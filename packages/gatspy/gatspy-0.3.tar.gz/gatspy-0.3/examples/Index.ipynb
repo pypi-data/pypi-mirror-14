{
 "cells": [
  {
   "cell_type": "markdown",
   "metadata": {},
   "source": [
    "# ``gatspy``: General tools for Astronomical Time Series\n",
    "\n",
    "This notebook, and the notebooks linked within, contain some examples of using ``gatspy`` for analysis of astronomical time series.\n",
    "See also the [gatspy documentation](http://astroml.org/gatspy)."
   ]
  },
  {
   "cell_type": "markdown",
   "metadata": {},
   "source": [
    "- [Single-band Lomb-Scargle and Supersmoother](SingleBand.ipynb)\n",
    "\n",
    "- [Multi-band Lomb-Scargle and Supersmoother](MultiBand.ipynb)\n",
    "\n",
    "- [Fast FFT-based Lomb-Scargle Periodograms](FastLombScargle.ipynb)"
   ]
  },
  {
   "cell_type": "markdown",
   "metadata": {},
   "source": [
    "    "
   ]
  },
  {
   "cell_type": "markdown",
   "metadata": {},
   "source": [
    "    "
   ]
  }
 ],
 "metadata": {
  "kernelspec": {
   "display_name": "Python 3",
   "language": "python",
   "name": "python3"
  },
  "language_info": {
   "codemirror_mode": {
    "name": "ipython",
    "version": 3
   },
   "file_extension": ".py",
   "mimetype": "text/x-python",
   "name": "python",
   "nbconvert_exporter": "python",
   "pygments_lexer": "ipython3",
   "version": "3.3.5"
  }
 },
 "nbformat": 4,
 "nbformat_minor": 0
}
