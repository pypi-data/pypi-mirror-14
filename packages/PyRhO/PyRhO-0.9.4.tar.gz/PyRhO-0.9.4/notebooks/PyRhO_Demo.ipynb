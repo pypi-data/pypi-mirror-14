{
 "cells": [
  {
   "cell_type": "markdown",
   "metadata": {
    "slideshow": {
     "slide_type": "slide"
    }
   },
   "source": [
    "<img src=\"gui/PyRhO_logo.png\" alt=\"PyRhO logo\" align=\"left\" style=\"width: 250px;\"/> <h1 align=\"left\">A Virtual Optogenetics Laboratory</h1>"
   ]
  },
  {
   "cell_type": "code",
   "execution_count": null,
   "metadata": {
    "collapsed": false,
    "slideshow": {
     "slide_type": "slide"
    }
   },
   "outputs": [],
   "source": [
    "# Import the module and set figure rendering to be inline\n",
    "%matplotlib inline\n",
    "from pyrho import *\n",
    "setFigOutput('screen')"
   ]
  },
  {
   "cell_type": "markdown",
   "metadata": {
    "slideshow": {
     "slide_type": "slide"
    }
   },
   "source": [
    "## Graphical User Interface"
   ]
  },
  {
   "cell_type": "code",
   "execution_count": null,
   "metadata": {
    "collapsed": false,
    "scrolled": false,
    "slideshow": {
     "slide_type": "fragment"
    }
   },
   "outputs": [],
   "source": [
    "loadGUI()"
   ]
  },
  {
   "cell_type": "markdown",
   "metadata": {
    "slideshow": {
     "slide_type": "slide"
    }
   },
   "source": [
    "## Example fitting process"
   ]
  },
  {
   "cell_type": "code",
   "execution_count": null,
   "metadata": {
    "collapsed": false,
    "slideshow": {
     "slide_type": "fragment"
    }
   },
   "outputs": [],
   "source": [
    "initParams = Parameters()\n",
    "initParams.add_many(                \n",
    "                # Name   Value   Vary    Min     Max     Expr\n",
    "                ('g0',   2.5e4,  True,   0.0,    1e15,   None),\n",
    "                ('gam',  0.05,   True,   0.00,   1,      None),\n",
    "                ('phi_m',3.5e17, True,   1e15,   1e19,   None),\n",
    "                ('k1',   10,     True,   0.0,    1000,   None),\n",
    "                ('k2',   3,      True,   0.0,    1000,   None),\n",
    "                ('p',    1,      True,   0.1,    5,      None),\n",
    "                ('Gf0',  0.04,   True,   0.0,    1000,   None),\n",
    "                ('k_f',  0.1,    True,   0.0,    1000,   None),\n",
    "                ('Gb0',  0.02,   True,   0.0,    1000,   None),\n",
    "                ('k_b',  0.15,   True,   0.0,    1000,   None),\n",
    "                ('q',    1,      True,   0.1,    5,      None),\n",
    "                ('Go1',  2,      True,   0.0,    1000,   None),\n",
    "                ('Go2',  2,      True,   0.0,    1000,   None),\n",
    "                ('Gd1',  0.1,    True,   0.0,    1000,   None),\n",
    "                ('Gd2',  0.01,   True,   0.0,    1000,   None),\n",
    "                ('Gr0',  3.3e-4, True,   0.0,    1000,   None),\n",
    "                ('E',    0,      True,   -1000,  1000,   None),\n",
    "                ('v0',   43,     True,   -1e15,  1e15,   None),\n",
    "                ('v1',   17.1,   True,   -1e15,  1e15,   None))\n",
    "saveData(initParams, 'initParams')\n",
    "ChR2data = loadData('ChR2')\n",
    "fitParams = fitModels(ChR2data, nStates=6, params=initParams, postFitOpt=True, relaxFact=2, method=defMethod, verbose=2)\n",
    "#saveData(fitParams, 'fitParams') # Parameters automatically saved as 'fitted{}sParams'.format(nStates)"
   ]
  },
  {
   "cell_type": "markdown",
   "metadata": {
    "slideshow": {
     "slide_type": "slide"
    }
   },
   "source": [
    "## Example command-based NEURON simulation"
   ]
  },
  {
   "cell_type": "code",
   "execution_count": null,
   "metadata": {
    "collapsed": false,
    "slideshow": {
     "slide_type": "fragment"
    }
   },
   "outputs": [],
   "source": [
    "#setupNEURON(NEURONpath='/path/to/NEURON/')\n",
    "RhO = models['6']()\n",
    "Prot = protocols['step']()\n",
    "Prot.phis = [1e16, 1e15, 1e14]\n",
    "Sim = simulators['NEURON'](Prot, RhO)\n",
    "Sim.run()\n",
    "Sim.plot()"
   ]
  },
  {
   "cell_type": "markdown",
   "metadata": {
    "slideshow": {
     "slide_type": "slide"
    }
   },
   "source": [
    "## Example custom stimulus protocol"
   ]
  },
  {
   "cell_type": "code",
   "execution_count": null,
   "metadata": {
    "collapsed": false,
    "slideshow": {
     "slide_type": "fragment"
    }
   },
   "outputs": [],
   "source": [
    "RhO = models['6']()\n",
    "Prot = protocols['custom']()\n",
    "Sim = simulators['Python'](Prot, RhO)\n",
    "\n",
    "def pulseGenerator(run, phi, pulse):\n",
    "    \"\"\"Custom interpolation function for a step pulse with damped sinusoidal oscillations\"\"\"\n",
    "    pStart, pEnd = pulse\n",
    "    t = np.linspace(0, pEnd-pStart, 1001, endpoint=True)\n",
    "    x = phi + 0.25*phi*np.sin(0.2*np.pi*t)*np.exp(-.05*t)\n",
    "    return spline(pStart + t, x, ext=1, k=5)\n",
    "\n",
    "Prot.phi_ft = pulseGenerator\n",
    "\n",
    "Sim.run()\n",
    "Sim.plot()"
   ]
  },
  {
   "cell_type": "markdown",
   "metadata": {
    "slideshow": {
     "slide_type": "slide"
    }
   },
   "source": [
    "## Example Brian simulation"
   ]
  },
  {
   "cell_type": "code",
   "execution_count": null,
   "metadata": {
    "collapsed": false,
    "slideshow": {
     "slide_type": "fragment"
    }
   },
   "outputs": [],
   "source": [
    "import brian2 as br\n",
    "\n",
    "### Define the rhodopsin model\n",
    "nStates = '6'\n",
    "origParams = loadData('fitted{}sParams'.format(nStates))\n",
    "#origParams = modelFits[nStates]['ChR2'] # Load from pre-fit models\n",
    "RhO = models[nStates](origParams)\n",
    "\n",
    "### Define the stimulation protocol\n",
    "Prot = protocols['step']()\n",
    "Prot.phis = [1e18]\n",
    "Prot.Vs = [None]\n",
    "Prot.cycles = [[150.,100.],[200.,75.]]\n",
    "\n",
    "### Define network parameters\n",
    "from brian2.units import Mohm\n",
    "N = 80\n",
    "pConnect = 0.2\n",
    "psp = 'v_post += 1.5*mV'\n",
    "delay = 3*ms\n",
    "netParams = {'tau_m':10*ms, 'R_m':70*Mohm, 'E_m':-70*mV, 'v_t0':-50*mV, 'sigma':10*mV, 't_ref':4*ms}\n",
    "\n",
    "### Define neuron model\n",
    "eqRhO = '''dv/dt = ((-I*R_m)+E_m-v)/tau_m + sigma*xi*tau_m**-0.5 : volt''' + RhO.brian_phi_t\n",
    "eqLIF = '''dv/dt = (E_m-v)/tau_m + sigma*xi*tau_m**-0.5 : volt'''\n",
    "\n",
    "### Create neuron groups\n",
    "G0 = br.NeuronGroup(N, eqRhO, threshold='v>v_t0', reset='v=E_m', refractory='t_ref', namespace=netParams, name='Inputs')\n",
    "G0.v = 'rand()*(v_t0-E_m)+E_m'\n",
    "G1 = br.NeuronGroup(N/2, eqLIF, threshold='v>v_t0', reset='v=E_m', refractory='t_ref', namespace=netParams)\n",
    "G1.v = 'rand()*(v_t0-E_m)+E_m'\n",
    "G2 = br.NeuronGroup(N/4, eqLIF, threshold='v>v_t0', reset='v=E_m', refractory='t_ref', namespace=netParams)\n",
    "G2.v = 'rand()*(v_t0-E_m)+E_m'\n",
    "\n",
    "### Create synapses\n",
    "S1 = br.Synapses(G0, G1, pre=psp, delay=delay)\n",
    "S1.connect(True, p=pConnect)\n",
    "S2 = br.Synapses(G1, G2, pre=psp, delay=delay)\n",
    "S2.connect(True, p=pConnect)\n",
    "\n",
    "### Create monitors\n",
    "monitors = {'states' : br.StateMonitor(G0, RhO.brianStateVars, record=0),   # Record states\n",
    "            'I'      : br.StateMonitor(G0, 'I', record=0),                  # Record current\n",
    "            'V'      : br.StateMonitor(G0, 'v', record=0),                  # Record voltage\n",
    "            'spikes' : [br.SpikeMonitor(G0, name='Retina'),                 # Record spikes\n",
    "                        br.SpikeMonitor(G1, name='LGN'), \n",
    "                        br.SpikeMonitor(G2, name='V1')]}\n",
    "\n",
    "### Build the network\n",
    "net = br.Network(br.collect())\n",
    "net.add(monitors.values()) # #net.add(monitors)\n",
    "\n",
    "### Run the simulation\n",
    "Sim = simulators['Brian'](Prot, RhO, simParams['Brian'], net, netParams, monitors)\n",
    "Sim.run()\n",
    "Sim.plot()"
   ]
  },
  {
   "cell_type": "code",
   "execution_count": null,
   "metadata": {
    "collapsed": false,
    "slideshow": {
     "slide_type": "subslide"
    }
   },
   "outputs": [],
   "source": [
    "G0.equations  # Print out input layer equations"
   ]
  },
  {
   "cell_type": "code",
   "execution_count": null,
   "metadata": {
    "collapsed": true
   },
   "outputs": [],
   "source": []
  }
 ],
 "metadata": {
  "kernelspec": {
   "display_name": "Python 3",
   "language": "python",
   "name": "python3"
  },
  "language_info": {
   "codemirror_mode": {
    "name": "ipython",
    "version": 3
   },
   "file_extension": ".py",
   "mimetype": "text/x-python",
   "name": "python",
   "nbconvert_exporter": "python",
   "pygments_lexer": "ipython3",
   "version": "3.4.4"
  }
 },
 "nbformat": 4,
 "nbformat_minor": 0
}
