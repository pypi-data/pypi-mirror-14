{
 "cells": [
  {
   "cell_type": "markdown",
   "metadata": {},
   "source": [
    "# Gallery of examples\n",
    "\n",
    "![logo_text.png](logo_text.png)\n",
    "\n",
    "Here you can browse a gallery of examples using poliastro in the form of Jupyter notebooks.\n",
    "\n",
    "To run these in mybinder.org, don't forget to install the required packages running the cell below:"
   ]
  },
  {
   "cell_type": "code",
   "execution_count": null,
   "metadata": {
    "collapsed": false
   },
   "outputs": [],
   "source": [
    "!conda install poliastro --channel poliastro --yes --quiet --name python3"
   ]
  },
  {
   "cell_type": "markdown",
   "metadata": {},
   "source": [
    "## [Going to Mars with Python using poliastro](Going to Mars with Python using poliastro.ipynb)\n",
    "\n",
    "[![mars](trans_30_260.png)](Going to Mars with Python using poliastro.ipynb)\n",
    "\n",
    "## [Exploring the New Horizons launch](Exploring the New Horizons launch.ipynb)\n",
    "\n",
    "[![new_horizons](new_horizons.png)](Exploring the New Horizons launch.ipynb)\n",
    "\n",
    "## [Comparing Hohmann and bielliptic transfers](Comparing Hohmann and bielliptic transfers.ipynb)\n",
    "\n",
    "[![hohmann_bielliptic](hohmann_bielliptic.png)](Comparing Hohmann and bielliptic transfers.ipynb)\n",
    "\n",
    "## [Propagation using Cowell's formulation](Propagation using Cowell's formulation.ipynb)\n",
    "\n",
    "[![cowell](cowell.png)](Propagation using Cowell's formulation.ipynb)\n",
    "\n",
    "## [Quickly solving Kepler's Problem in Python using numba](Quickly solving Kepler's Problem in Python using numba.ipynb)\n",
    "\n",
    "[![benchmark](benchmark.png)](Quickly solving Kepler's Problem in Python using numba.ipynb)\n",
    "\n",
    "## [Studying Hohmann transfers](Studying Hohmann transfers.ipynb)\n",
    "\n",
    "[![hohmann](hohmann.png)](Studying Hohmann transfers.ipynb)"
   ]
  },
  {
   "cell_type": "code",
   "execution_count": null,
   "metadata": {
    "collapsed": true
   },
   "outputs": [],
   "source": []
  }
 ],
 "metadata": {
  "kernelspec": {
   "display_name": "Python 3",
   "language": "python",
   "name": "python3"
  },
  "language_info": {
   "codemirror_mode": {
    "name": "ipython",
    "version": 3
   },
   "file_extension": ".py",
   "mimetype": "text/x-python",
   "name": "python",
   "nbconvert_exporter": "python",
   "pygments_lexer": "ipython3",
   "version": "3.5.1"
  }
 },
 "nbformat": 4,
 "nbformat_minor": 0
}
