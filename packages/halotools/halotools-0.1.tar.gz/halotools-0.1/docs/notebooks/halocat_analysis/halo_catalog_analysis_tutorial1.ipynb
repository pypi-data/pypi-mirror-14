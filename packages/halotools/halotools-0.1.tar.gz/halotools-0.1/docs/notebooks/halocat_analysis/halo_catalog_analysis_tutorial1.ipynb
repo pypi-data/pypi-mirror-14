{
 "metadata": {
  "name": "",
  "signature": "sha256:814698e606cb75f4ad29bb11149801acfec1301feb6de399b9cb89685e07e78b"
 },
 "nbformat": 3,
 "nbformat_minor": 0,
 "worksheets": [
  {
   "cells": [
    {
     "cell_type": "heading",
     "level": 1,
     "metadata": {},
     "source": [
      "Halo Catalog Analysis Example: halo properties as a function of host halo mass\n"
     ]
    },
    {
     "cell_type": "markdown",
     "metadata": {},
     "source": [
      "In this example, we'll show how to start from a subhalo catalog and calculate how various properties scale with host halo mass. \n",
      "In particular, we'll calculate the average abundance of subhalos as a function of mass, $\\langle N_{\\rm sub}\\vert M_{\\rm halo}\\rangle$. \n"
     ]
    },
    {
     "cell_type": "heading",
     "level": 2,
     "metadata": {},
     "source": [
      "Retrieve the default halo catalog \n"
     ]
    },
    {
     "cell_type": "code",
     "collapsed": false,
     "input": [
      "from halotools.sim_manager import CachedHaloCatalog\n",
      "halocat = CachedHaloCatalog()\n",
      "print(halocat.halo_table[0:9])\n"
     ],
     "language": "python",
     "metadata": {},
     "outputs": [
      {
       "output_type": "stream",
       "stream": "stdout",
       "text": [
        "halo_vmax_firstacc halo_dmvir_dt_tdyn ... halo_hostid halo_mvir_host_halo\n",
        "------------------ ------------------ ... ----------- -------------------\n",
        "              67.3             -5.505 ...  3058439856           2.031e+10\n",
        "             99.91             -9.513 ...  3058439861           4.443e+10\n",
        "             87.86             0.8171 ...  3058439904           9.882e+10\n",
        "             78.43             -1.356 ...  3058439906           3.108e+10\n",
        "             89.69              1.495 ...  3058439907           4.266e+10\n",
        "            118.89             -6.333 ...  3058439910           1.728e+11\n",
        "            123.38              4.487 ...  3058439952           1.867e+11\n",
        "            109.28             -15.28 ...  3058439956           6.897e+10\n",
        "             84.17            -0.2037 ...  3058439985           3.339e+10\n"
       ]
      }
     ],
     "prompt_number": 1
    },
    {
     "cell_type": "markdown",
     "metadata": {},
     "source": [
      "The first time you load the halo catalog into memory is slow because the halo table is sorted into a convenient order and a large number of self-consistency checks are performed. Subsequent calls to extract the ``halo_table`` are fast as the catalog is now available in RAM. "
     ]
    },
    {
     "cell_type": "code",
     "collapsed": false,
     "input": [
      "mask = halocat.halo_table['halo_mpeak'] > 1000*halocat.particle_mass\n",
      "halos = halocat.halo_table[mask]\n"
     ],
     "language": "python",
     "metadata": {},
     "outputs": [],
     "prompt_number": 2
    },
    {
     "cell_type": "heading",
     "level": 2,
     "metadata": {},
     "source": [
      "Calculate total number of subhalos $N_{\\rm subs}$ in each halo\n"
     ]
    },
    {
     "cell_type": "markdown",
     "metadata": {},
     "source": [
      "To calculate the total number of subhalos mass in each halo, we'll use the `halotools.utils.add_new_table_column` function. You can read more about the details of that function in its documentation, here we'll just demo some basic usage. \n",
      "\n",
      "The ``halo_hostid`` is a natural grouping key for a halo catalog whose host halos are known. Let's use this grouping key to calculate $N_{\\rm sub}$ and broadcast the result to the members of the halo."
     ]
    },
    {
     "cell_type": "code",
     "collapsed": false,
     "input": [
      "from halotools.utils import add_new_table_column\n",
      "\n",
      "grouping_key = 'halo_hostid'\n",
      "new_colname, new_coltype = 'num_subhalos', 'i4'\n",
      "\n",
      "# The aggregation function operates on the members of each halo, \n",
      "# in this case returning the sum of whatever column it is passed\n",
      "def count_subhalos(x):\n",
      "    return len(x)-1\n",
      "aggregation_function = count_subhalos\n",
      "colnames_needed_by_function = ['halo_hostid'] # Any column will do since our function just returns the length of the input column\n",
      "\n",
      "add_new_table_column(halos, \n",
      "        new_colname, new_coltype, grouping_key, \n",
      "        aggregation_function, colnames_needed_by_function)\n"
     ],
     "language": "python",
     "metadata": {},
     "outputs": [],
     "prompt_number": 3
    },
    {
     "cell_type": "markdown",
     "metadata": {},
     "source": [
      "Our ``halos`` table now has a ``num_subhalos`` column."
     ]
    },
    {
     "cell_type": "heading",
     "level": 2,
     "metadata": {},
     "source": [
      "Calculate $\\langle N_{\\rm sub}\\rangle$ vs. $M_{\\rm halo}$\n"
     ]
    },
    {
     "cell_type": "markdown",
     "metadata": {},
     "source": [
      "Now we'll exploit our previous calculations to compute the mean number of subhalos in bins of host halo mass. For this calculation, the `~halotools.mock_observables.mean_y_vs_x` provides useful wrapper behavior around `scipy.stats.binned_statistic` and `numpy.histogram`. \n"
     ]
    },
    {
     "cell_type": "code",
     "collapsed": false,
     "input": [
      "from halotools.mock_observables import mean_y_vs_x\n",
      "import numpy as np \n",
      "\n",
      "hostmask = halos['halo_upid'] == -1\n",
      "hosts = halos[hostmask]\n",
      "\n",
      "bins = np.logspace(12.5, 14.5, 25)\n",
      "result = mean_y_vs_x(hosts['halo_mvir_host_halo'].data, \n",
      "    hosts['num_subhalos'].data, \n",
      "    bins = bins, error_estimator = 'variance') \n",
      "\n",
      "host_mass, mean_richness, richness_variance = result\n"
     ],
     "language": "python",
     "metadata": {},
     "outputs": [],
     "prompt_number": 4
    },
    {
     "cell_type": "heading",
     "level": 3,
     "metadata": {},
     "source": [
      "Plot the result"
     ]
    },
    {
     "cell_type": "code",
     "collapsed": false,
     "input": [
      "%matplotlib inline\n",
      "from seaborn import plt"
     ],
     "language": "python",
     "metadata": {},
     "outputs": [],
     "prompt_number": 5
    },
    {
     "cell_type": "code",
     "collapsed": false,
     "input": [
      "plt.errorbar(host_mass, mean_richness, yerr=richness_variance, \n",
      "             fmt = \"none\", ecolor='gray')\n",
      "plt.plot(host_mass, mean_richness, 'D', color='k')\n",
      "\n",
      "plt.loglog()\n",
      "plt.xticks(size=18)\n",
      "plt.yticks(size=18)\n",
      "plt.xlabel(r'$M_{\\rm halo}/M_{\\odot}$', fontsize=25)\n",
      "plt.ylabel(r'$\\langle N_{\\rm sub}\\rangle$', fontsize=25)\n",
      "plt.ylim(ymin = 1, ymax=100)\n",
      "plt.xlim(xmin = 1e12, xmax=5e14)\n"
     ],
     "language": "python",
     "metadata": {},
     "outputs": [
      {
       "metadata": {},
       "output_type": "pyout",
       "prompt_number": 6,
       "text": [
        "(1000000000000.0, 500000000000000.0)"
       ]
      },
      {
       "metadata": {},
       "output_type": "display_data",
       "png": "[encoded data removed]",
       "text": [
        "<matplotlib.figure.Figure at 0x132fcfbd0>"
       ]
      }
     ],
     "prompt_number": 6
    },
    {
     "cell_type": "code",
     "collapsed": false,
     "input": [],
     "language": "python",
     "metadata": {},
     "outputs": [],
     "prompt_number": 6
    }
   ],
   "metadata": {}
  }
 ]
}