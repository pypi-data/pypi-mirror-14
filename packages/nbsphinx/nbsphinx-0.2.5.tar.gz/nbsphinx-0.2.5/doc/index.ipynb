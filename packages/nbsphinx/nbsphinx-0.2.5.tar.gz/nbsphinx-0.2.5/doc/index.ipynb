{
 "cells": [
  {
   "cell_type": "markdown",
   "metadata": {},
   "source": [
    "# An Alternative Index Page\n",
    "\n",
    "The main index is in [index.rst](index.rst), from which the HTML and LaTeX index is created.\n",
    "See also the [online version](http://nbsphinx.readthedocs.org/).\n",
    "\n",
    "You can use this page as a fallback for when the notebooks are opened locally with Jupyter or online at [nbviewer](http://nbviewer.jupyter.org/github/spatialaudio/nbsphinx/blob/master/doc/index.ipynb)."
   ]
  },
  {
   "cell_type": "markdown",
   "metadata": {},
   "source": [
    "## Table Of Contents\n",
    "\n",
    "These contents are **not** automatically synchronized with `index.rst`, therefore one or the other will likely be out-of-date!\n",
    "\n",
    "* [Usage](usage.ipynb)\n",
    "* [Markdown Cells](markdown-cells.ipynb)\n",
    "* [Code Cells](code-cells.ipynb)\n",
    "* [Raw Cells](raw-cells.ipynb)\n",
    "* [A Pre-Executed Notebook](pre-executed.ipynb)\n",
    "* [Ignoring Errors](allow-errors.ipynb)\n",
    "* [Hidden Cells](hidden-cells.ipynb)\n",
    "* [A Notebook in a Sub-Directory](subdir/another.ipynb)\n",
    "* [Using `toctree` In A Notebook](subdir/toctree.ipynb)\n",
    "* [External Links](links.ipynb)\n",
    "\n",
    "... and there is an [Orphan Notebook](orphan.ipynb), which contains a link back to this page (or back to the main index in case of the Sphinx-generated files)."
   ]
  }
 ],
 "metadata": {
  "kernelspec": {
   "display_name": "Python 3",
   "language": "python",
   "name": "python3"
  },
  "language_info": {
   "codemirror_mode": {
    "name": "ipython",
    "version": 3
   },
   "file_extension": ".py",
   "mimetype": "text/x-python",
   "name": "python",
   "nbconvert_exporter": "python",
   "pygments_lexer": "ipython3",
   "version": "3.5.1+"
  }
 },
 "nbformat": 4,
 "nbformat_minor": 1
}
