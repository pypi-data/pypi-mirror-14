{
 "cells": [
  {
   "cell_type": "markdown",
   "metadata": {},
   "source": [
    "## GOparser Demo\n",
    "\n",
    "```\n",
    "Author: Florian Wagner\n",
    "Email: florian.wagner@duke.edu\n",
    "```\n",
    "This notebook demonstrates how to use the ```GOparser``` package to parse and query Gene Ontology data."
   ]
  },
  {
   "cell_type": "code",
   "execution_count": 1,
   "metadata": {
    "collapsed": false
   },
   "outputs": [
    {
     "name": "stdout",
     "output_type": "stream",
     "text": [
      "Package versions\n",
      "----------------\n",
      "genometools 1.1.0\n",
      "goparser 1.1.0\n"
     ]
    }
   ],
   "source": [
    "# get package versions\n",
    "from pkg_resources import require\n",
    "\n",
    "print 'Package versions'\n",
    "print '----------------'\n",
    "print require('genometools')[0]\n",
    "print require('goparser')[0]"
   ]
  },
  {
   "cell_type": "code",
   "execution_count": 2,
   "metadata": {
    "collapsed": true
   },
   "outputs": [],
   "source": [
    "gene_annotation_file = 'Homo_sapiens.GRCh38.82.gtf.gz'\n",
    "protein_coding_gene_file = 'protein_coding_genes_human.tsv'\n",
    "go_annotation_file = 'gene_association.goa_human.149.gz'\n",
    "go_ontology_file = 'go-basic_2015-10-12.obo'"
   ]
  },
  {
   "cell_type": "markdown",
   "metadata": {},
   "source": [
    "### Download all required data"
   ]
  },
  {
   "cell_type": "code",
   "execution_count": 3,
   "metadata": {
    "collapsed": false
   },
   "outputs": [
    {
     "name": "stdout",
     "output_type": "stream",
     "text": [
      "  % Total    % Received % Xferd  Average Speed   Time    Time     Time  Current\n",
      "                                 Dload  Upload   Total   Spent    Left  Speed\n",
      "100 44.2M  100 44.2M    0     0  1079k      0  0:00:41  0:00:41 --:--:-- 1158k\n"
     ]
    }
   ],
   "source": [
    "# download gene annotations\n",
    "!curl -o \"$gene_annotation_file\" \\\n",
    "        \"ftp://ftp.ensembl.org/pub/release-82/gtf/homo_sapiens/Homo_sapiens.GRCh38.82.gtf.gz\""
   ]
  },
  {
   "cell_type": "code",
   "execution_count": 4,
   "metadata": {
    "collapsed": false
   },
   "outputs": [
    {
     "name": "stdout",
     "output_type": "stream",
     "text": [
      "  % Total    % Received % Xferd  Average Speed   Time    Time     Time  Current\n",
      "                                 Dload  Upload   Total   Spent    Left  Speed\n",
      "100 6573k  100 6573k    0     0   934k      0  0:00:07  0:00:07 --:--:-- 1287k\n"
     ]
    }
   ],
   "source": [
    "# download UniProt-GOA GO annotation file\n",
    "!curl -o \"$go_annotation_file\" \\\n",
    "        \"ftp://ftp.ebi.ac.uk/pub/databases/GO/goa/old/HUMAN/gene_association.goa_human.149.gz\""
   ]
  },
  {
   "cell_type": "code",
   "execution_count": 5,
   "metadata": {
    "collapsed": false
   },
   "outputs": [
    {
     "name": "stdout",
     "output_type": "stream",
     "text": [
      "!gaf-version: 2.1\r\n",
      "!\r\n",
      "!The set of protein accessions included in this file is based on UniProt complete proteomes, which may provide more than one protein per gene.\r\n",
      "!They include all Swiss-Prot entries for the species plus any TrEMBL entries that have an Ensembl DR line. The TrEMBL entries are likely to overlap with the Swiss-Prot entries or their isoforms.\r\n",
      "!If a particular protein accession is not annotated with GO, then it will not appear in this file.\r\n",
      "!\r\n",
      "!Note that the annotation set in this file is filtered in order to reduce redundancy; the full, unfiltered set can be found in\r\n",
      "!ftp://ftp.ebi.ac.uk/pub/databases/GO/goa/UNIPROT/gene_association.goa_uniprot.gz\r\n",
      "!\r\n",
      "!Generated: 2015-10-12 09:17\r\n",
      "!GO-version: http://purl.obolibrary.org/obo/go/releases/2015-10-09/go.owl\r\n",
      "!\r\n",
      "\r\n",
      "gzip: stdout: Broken pipe\r\n"
     ]
    }
   ],
   "source": [
    "# look at which version of the Gene Ontology was used for the GO annotation file\n",
    "# (answer: 2015-10-12)\n",
    "!gunzip -c \"$go_annotation_file\" | head -n 12"
   ]
  },
  {
   "cell_type": "code",
   "execution_count": 6,
   "metadata": {
    "collapsed": false
   },
   "outputs": [
    {
     "name": "stdout",
     "output_type": "stream",
     "text": [
      "  % Total    % Received % Xferd  Average Speed   Time    Time     Time  Current\n",
      "                                 Dload  Upload   Total   Spent    Left  Speed\n",
      "100 29.7M    0 29.7M    0     0  1145k      0 --:--:--  0:00:26 --:--:-- 1111k\n"
     ]
    }
   ],
   "source": [
    "# download gene ontology file\n",
    "!curl -o \"$go_ontology_file\" \\\n",
    "        http://viewvc.geneontology.org/viewvc/GO-SVN/ontology-releases/2015-10-12/go-basic.obo?revision=29122"
   ]
  },
  {
   "cell_type": "markdown",
   "metadata": {},
   "source": [
    "### Extract list of human protein-coding genes "
   ]
  },
  {
   "cell_type": "code",
   "execution_count": 7,
   "metadata": {
    "collapsed": false
   },
   "outputs": [
    {
     "name": "stdout",
     "output_type": "stream",
     "text": [
      "[2015-11-21 13:12:52] INFO: Regular expression used for filtering chromosome names: \"(?:\\d\\d?|MT|X|Y)$\"\n",
      "[2015-11-21 13:12:52] INFO: Parsing data...\n",
      "[2015-11-21 13:13:01] INFO: done (parsed 2561568 lines).\n",
      "[2015-11-21 13:13:01] INFO: \n",
      "[2015-11-21 13:13:01] INFO: Gene chromosomes (25):\n",
      "[2015-11-21 13:13:01] INFO: \t1, 10, 11, 12, 13, 14, 15, 16, 17, 18, 19, 2, 20, 21, 22, 3, 4, 5, 6, 7, 8, 9, MT, X, Y\n",
      "[2015-11-21 13:13:01] INFO: \n",
      "[2015-11-21 13:13:01] INFO: Excluded chromosomes (15):\n",
      "[2015-11-21 13:13:01] INFO: \tGL000009.2, GL000194.1, GL000195.1, GL000205.2, GL000213.1, GL000218.1, GL000219.1, KI270711.1, KI270713.1, KI270721.1, KI270726.1, KI270727.1, KI270728.1, KI270731.1, KI270734.1\n",
      "[2015-11-21 13:13:01] INFO: \n",
      "[2015-11-21 13:13:01] INFO: Gene sources:\n",
      "[2015-11-21 13:13:01] INFO: \tensembl_havana: 18864\n",
      "[2015-11-21 13:13:01] INFO: \thavana: 738\n",
      "[2015-11-21 13:13:01] INFO: \tensembl: 223\n",
      "[2015-11-21 13:13:01] INFO: \tinsdc: 13\n",
      "[2015-11-21 13:13:01] INFO: \n",
      "[2015-11-21 13:13:01] INFO: Gene types:\n",
      "[2015-11-21 13:13:01] INFO: \tprotein_coding: 19779\n",
      "[2015-11-21 13:13:01] INFO: \tpolymorphic_pseudogene: 59\n",
      "[2015-11-21 13:13:01] INFO: \n",
      "[2015-11-21 13:13:01] INFO: # Genes with redundant annotations: 76\n",
      "[2015-11-21 13:13:01] INFO: \n",
      "[2015-11-21 13:13:01] INFO: Polymorphic pseudogenes (59): AKR7L (1), C6orf183 (1), CASP12 (1), CYP2D7 (1), FCGR2C (1), GBA3 (1), GSTT2 (1), IFNL4 (1), KIR2DS4 (1), MROH5 (1), NAT8B (1), OR10A6 (1), OR10AC1 (1), OR10C1 (1), OR10J4 (1), OR10X1 (1), OR11H7 (1), OR12D1 (1), OR12D2 (1), OR13C7 (1), OR1B1 (1), OR1S1 (1), OR2AG1 (1), OR2F1 (1), OR2J1 (1), OR2L8 (1), OR2S2 (1), OR2T11 (1), OR4A8 (1), OR4C16 (1), OR4Q2 (1), OR4X1 (1), OR4X2 (1), OR51B2 (1), OR51F1 (1), OR51G1 (1), OR52B4 (1), OR52E1 (1), OR52R1 (1), OR52Z1 (1), OR5AC1 (1), OR5AL1 (1), OR5AR1 (1), OR5D13 (1), OR5G3 (1), OR5H6 (1), OR5H8 (1), OR5L1 (1), OR5R1 (1), OR6Q1 (1), OR8B4 (1), OR8D2 (1), OR8J2 (1), OR8K3 (1), PKD1L2 (1), PNLIPRP2 (1), SERPINA2 (1), TUBB8P7 (1), UBE2NL (1)\n",
      "[2015-11-21 13:13:01] INFO: \n",
      "[2015-11-21 13:13:01] INFO: Total protein-coding genes: 19761\n"
     ]
    }
   ],
   "source": [
    "# generate list of human protein-coding genes\n",
    "species = 'human'\n",
    "\n",
    "!gunzip -c $gene_annotation_file | \\\n",
    "        extract_protein_coding_genes.py -s $species -o $protein_coding_gene_file"
   ]
  },
  {
   "cell_type": "markdown",
   "metadata": {},
   "source": [
    "### Parse human GO annotations"
   ]
  },
  {
   "cell_type": "code",
   "execution_count": 8,
   "metadata": {
    "collapsed": false
   },
   "outputs": [
    {
     "name": "stdout",
     "output_type": "stream",
     "text": [
      "[2015-11-21 13:13:01] INFO: Parsed 43799 GO term definitions.\n",
      "[2015-11-21 13:13:01] INFO: Adding child and part relationships...\n",
      "[2015-11-21 13:13:01] INFO: Flattening ancestors...\n",
      "[2015-11-21 13:13:06] INFO: Flattening descendants...\n",
      "[2015-11-21 13:13:10] INFO: Read 19761 genes.\n",
      "[2015-11-21 13:13:11] INFO: Parsing annotations...\n",
      "[2015-11-21 13:13:15] INFO: Parsed 499839 positive GO annotations (274178 = 54.9% excluded based on evidence type).\n",
      "[2015-11-21 13:13:15] WARNING: Warning: 7375 annotations with 329 unkonwn gene names.\n",
      "[2015-11-21 13:13:15] INFO: Found a total of 218286 valid annotations.\n",
      "[2015-11-21 13:13:15] INFO: 142152 unique Gene-Term associations.\n"
     ]
    }
   ],
   "source": [
    "import sys\n",
    "from genometools import misc\n",
    "from goparser import GOParser\n",
    "\n",
    "# configure a logger that prints to stdout\n",
    "misc.configure_logger('goparser',log_stream=sys.stdout)\n",
    "\n",
    "# instantiate a GOParser object\n",
    "P = GOParser()\n",
    "\n",
    "# parse the ontology (.obo) file from the Gene Ontology Consortium\n",
    "P.parse_ontology(go_ontology_file)\n",
    "\n",
    "# parse the GO annotation (.gaf) file from the UniProt-GOA database\n",
    "# --- only include annotations with certain evidence codes\n",
    "select_evidence = ['IDA','IGI','IMP','ISO','ISS','IC','NAS','TAS']\n",
    "P.parse_annotations(go_annotation_file,protein_coding_gene_file,\\\n",
    "                    select_evidence=select_evidence)"
   ]
  },
  {
   "cell_type": "markdown",
   "metadata": {},
   "source": [
    "### Get information about a specific GO term"
   ]
  },
  {
   "cell_type": "code",
   "execution_count": 9,
   "metadata": {
    "collapsed": false
   },
   "outputs": [
    {
     "name": "stdout",
     "output_type": "stream",
     "text": [
      "Term name:\n",
      "----------\n",
      "BP: canonical Wnt signal. pathway (GO:0060070)\n",
      "\n",
      "Genes annotated with GO term \"GO:0060070\", canonical Wnt signaling pathway:\n",
      "------------------------------------------------------------------------\n",
      "Total number of genes: 48\n",
      "APC, AXIN1, CAV1, CDH3, CHD8, CTNNB1, DVL1, DVL2, DVL3, FZD1, FZD2, FZD3, FZD4, FZD5, FZD7, FZD8, GATA3, GSK3B, HOXB9, LEF1, LRP5, LRP6, MYC, NDP, OTULIN, PPAP2B, PTEN, PTK7, PTPRU, RAB5A, RARG, SCYL2, SFRP1, SNAI2, SOX4, TBL1X, TBL1XR1, TCF7L2, UBE2B, WNT1, WNT10B, WNT2, WNT3, WNT3A, WNT4, WNT7A, WNT7B, WNT8A\n"
     ]
    }
   ],
   "source": [
    "term = P.get_term_by_name('canonical Wnt signaling pathway')\n",
    "print 'Term name:'\n",
    "print '----------'\n",
    "print term.get_pretty_format()\n",
    "print\n",
    "\n",
    "term_id = term.id\n",
    "term_name = term.name\n",
    "annotated_genes = P.get_goterm_genes(term_id)\n",
    "print 'Genes annotated with GO term \"%s\", %s:' %(term_id,term_name)\n",
    "print '------------------------------------------------------------------------'\n",
    "print 'Total number of genes: %d' %(len(annotated_genes))\n",
    "print ', '.join(sorted(annotated_genes))"
   ]
  },
  {
   "cell_type": "markdown",
   "metadata": {},
   "source": [
    "### Find all GO terms that the *MYC* gene is annotated with"
   ]
  },
  {
   "cell_type": "code",
   "execution_count": 10,
   "metadata": {
    "collapsed": false
   },
   "outputs": [
    {
     "name": "stdout",
     "output_type": "stream",
     "text": [
      "GO terms associated with MYC:\n",
      "-----------------------------\n",
      "BP: MAPK cascade (GO:0000165)\n",
      "BP: Notch signal. pathway (GO:0007219)\n",
      "BP: branching involved in ureteric bud morphogenesis (GO:0001658)\n",
      "BP: canonical Wnt signal. pathway (GO:0060070)\n",
      "BP: cell cycle arrest (GO:0007050)\n",
      "BP: cellular iron ion homeostasis (GO:0006879)\n",
      "BP: cellular response to DNA damage stimulus (GO:0006974)\n",
      "BP: cellular response to drug (GO:0035690)\n",
      "BP: chromatin remodeling (GO:0006338)\n",
      "BP: chromosome organization (GO:0051276)\n",
      "BP: energy reserve metabolic process (GO:0006112)\n",
      "BP: fibroblast apoptotic process (GO:0044346)\n",
      "BP: gene expression (GO:0010467)\n",
      "BP: neg. regulation of apoptotic process (GO:0043066)\n",
      "BP: neg. regulation of cell division (GO:0051782)\n",
      "BP: neg. regulation of fibroblast prolif. (GO:0048147)\n",
      "BP: neg. regulation of monocyte differentiation (GO:0045656)\n",
      "BP: neg. regulation of stress-activated MAPK cascade (GO:0032873)\n",
      "BP: neg. regulation of transcription from RNA polymerase II promoter (GO:0000122)\n",
      "BP: oxygen transport (GO:0015671)\n",
      "BP: pos. regulation of DNA biosynthetic process (GO:2000573)\n",
      "BP: pos. regulation of cell prolif. (GO:0008284)\n",
      "BP: pos. regulation of cysteine-type endopeptidase activity involved in apoptotic process (GO:0043280)\n",
      "BP: pos. regulation of epithelial cell prolif. (GO:0050679)\n",
      "BP: pos. regulation of fibroblast prolif. (GO:0048146)\n",
      "BP: pos. regulation of mesenchymal cell prolif. (GO:0002053)\n",
      "BP: pos. regulation of metanephric cap mesenchymal cell prolif. (GO:0090096)\n",
      "BP: pos. regulation of response to DNA damage stimulus (GO:2001022)\n",
      "BP: pos. regulation of transcription from RNA polymerase II promoter (GO:0045944)\n",
      "BP: pos. regulation of transcription, DNA-templated (GO:0045893)\n",
      "BP: regulation of gene expression (GO:0010468)\n",
      "BP: regulation of telomere maintenance (GO:0032204)\n",
      "BP: response to gamma radiation (GO:0010332)\n",
      "BP: response to growth factor (GO:0070848)\n",
      "BP: transcription initiation from RNA polymerase II promoter (GO:0006367)\n",
      "BP: transcription, DNA-templated (GO:0006351)\n",
      "BP: transforming growth factor beta receptor signal. pathway (GO:0007179)\n",
      "CC: cytosol (GO:0005829)\n",
      "CC: nucleolus (GO:0005730)\n",
      "CC: nucleoplasm (GO:0005654)\n",
      "CC: nucleus (GO:0005634)\n",
      "CC: protein complex (GO:0043234)\n",
      "MF: DNA binding (GO:0003677)\n",
      "MF: E-box binding (GO:0070888)\n",
      "MF: RNA polymerase II core promoter proximal region sequence-specific DNA binding (GO:0000978)\n",
      "MF: protein complex binding (GO:0032403)\n",
      "MF: transcription factor activity, sequence-specific DNA binding (GO:0003700)\n",
      "MF: transcriptional activator activity, RNA polymerase II core promoter proximal region sequence-specific binding (GO:0001077)\n"
     ]
    }
   ],
   "source": [
    "associated_terms = P.get_gene_goterms('MYC')\n",
    "print 'GO terms associated with MYC:'\n",
    "print '-----------------------------'\n",
    "print '\\n'.join(sorted([t.get_pretty_format() for t in associated_terms]))"
   ]
  }
 ],
 "metadata": {
  "kernelspec": {
   "display_name": "Python 2",
   "language": "python",
   "name": "python2"
  },
  "language_info": {
   "codemirror_mode": {
    "name": "ipython",
    "version": 2
   },
   "file_extension": ".py",
   "mimetype": "text/x-python",
   "name": "python",
   "nbconvert_exporter": "python",
   "pygments_lexer": "ipython2",
   "version": "2.7.6"
  }
 },
 "nbformat": 4,
 "nbformat_minor": 0
}
