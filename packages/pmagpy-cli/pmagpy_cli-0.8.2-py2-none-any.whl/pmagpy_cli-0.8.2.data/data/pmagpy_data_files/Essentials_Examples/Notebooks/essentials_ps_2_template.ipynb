{
 "metadata": {
  "name": "",
  "signature": "sha256:9500e0525541a4bcc90659f7220540db645e607bb3d8a3830b2ea2d3e2ef7f6a"
 },
 "nbformat": 3,
 "nbformat_minor": 0,
 "worksheets": [
  {
   "cells": [
    {
     "cell_type": "heading",
     "level": 2,
     "metadata": {},
     "source": [
      "IPython Notebook for turning in solutions to the problems in the Essentials of Paleomagnetism Textbook by L. Tauxe"
     ]
    },
    {
     "cell_type": "heading",
     "level": 2,
     "metadata": {},
     "source": [
      "Problems in Chapter 2"
     ]
    },
    {
     "cell_type": "heading",
     "level": 3,
     "metadata": {},
     "source": [
      "Problem 1a:   WRITE YOUR DESCRIPTION HERE"
     ]
    },
    {
     "cell_type": "code",
     "collapsed": false,
     "input": [
      "# You will need these things!\n",
      "import numpy as np\n",
      "import pandas as pd\n"
     ],
     "language": "python",
     "metadata": {},
     "outputs": [],
     "prompt_number": 2
    },
    {
     "cell_type": "markdown",
     "metadata": {},
     "source": [
      "Let's write a little function to do the conversion.  "
     ]
    },
    {
     "cell_type": "code",
     "collapsed": false,
     "input": [
      "# the structure of a function is like this:\n",
      "def dir2cart(dec,inc,int):  # first line starts with 'def', has the name and the input parameters (data)\n",
      "    deg2rad=np.pi/180. # all subsequent lines are indented\n",
      "    #   continue this function here.......\n",
      "    return YOUR_OUTPUTS # returns the stuff you calculated (x,y,z)"
     ],
     "language": "python",
     "metadata": {},
     "outputs": [],
     "prompt_number": 3
    },
    {
     "cell_type": "markdown",
     "metadata": {},
     "source": [
      "Now let's read in a data file with some geomagnetic field vectors in it."
     ]
    },
    {
     "cell_type": "code",
     "collapsed": false,
     "input": [
      "# read in the data and transpose it to rows of dec, inc, int\n",
      "# you have to change the file name to reflect where you put the data....   \n",
      "data=np.loadtxt('Chapter_2/ps2_prob1_data.txt').transpose() # this line will read in data\n",
      " # now send these data to your function....    and print out the x,y,z"
     ],
     "language": "python",
     "metadata": {},
     "outputs": [],
     "prompt_number": 6
    },
    {
     "cell_type": "heading",
     "level": 3,
     "metadata": {},
     "source": [
      "Problem 1b: Read in locations from 10 random spots on Earth and calculate the IGRF vectors at each place. "
     ]
    },
    {
     "cell_type": "markdown",
     "metadata": {},
     "source": [
      "First we have to understand how the function pmag.get_unf() works.  To do this, we need to tell the notebook where the pmag module lives, import it and print out the doc string for get_unf(): "
     ]
    },
    {
     "cell_type": "code",
     "collapsed": false,
     "input": [
      "import sys\n",
      "sys.path.insert(0,'/Users/ltauxe/PmagPy')   # supply your OWN path here!   \n",
      "import pmag\n",
      "print pmag.get_unf.__doc__"
     ],
     "language": "python",
     "metadata": {},
     "outputs": [
      {
       "output_type": "stream",
       "stream": "stdout",
       "text": [
        "\n",
        "    Called with get_unf(N).\n",
        " subroutine to retrieve N uniformly distributed directions\n",
        " using the way described in Fisher et al. (1987).\n",
        "    \n"
       ]
      }
     ],
     "prompt_number": 5
    },
    {
     "cell_type": "markdown",
     "metadata": {},
     "source": [
      "use that function to generate a list of random points on the Earth's surface.  "
     ]
    },
    {
     "cell_type": "code",
     "collapsed": false,
     "input": [],
     "language": "python",
     "metadata": {},
     "outputs": [],
     "prompt_number": 6
    },
    {
     "cell_type": "markdown",
     "metadata": {},
     "source": [
      "Now let's find out about ipmag.igrf"
     ]
    },
    {
     "cell_type": "code",
     "collapsed": false,
     "input": [
      "import ipmag\n",
      "print ipmag.igrf.__doc__"
     ],
     "language": "python",
     "metadata": {},
     "outputs": [
      {
       "output_type": "stream",
       "stream": "stdout",
       "text": [
        "\n",
        "    prints out Declination, Inclination, Intensity data from an input with format: Date, Altitude, Latitude, Longitude\n",
        "    \n"
       ]
      }
     ],
     "prompt_number": 7
    },
    {
     "cell_type": "markdown",
     "metadata": {},
     "source": []
    },
    {
     "cell_type": "code",
     "collapsed": false,
     "input": [
      "# figure out how to send your places to ipmag.igrf"
     ],
     "language": "python",
     "metadata": {},
     "outputs": [],
     "prompt_number": 7
    },
    {
     "cell_type": "heading",
     "level": 2,
     "metadata": {},
     "source": [
      "Problem 1c:  Take the output from 1b and call ``dir2cart''. "
     ]
    },
    {
     "cell_type": "code",
     "collapsed": false,
     "input": [
      "# "
     ],
     "language": "python",
     "metadata": {},
     "outputs": [],
     "prompt_number": 7
    },
    {
     "cell_type": "heading",
     "level": 2,
     "metadata": {},
     "source": [
      "Problem 2:  Take the output from Problem 1c and plot as an equal area projection (first by hand and then with ipmag functions).  The ipmag functions call pmagplotlib and use matplotlib, so these will have to be imported as well. "
     ]
    },
    {
     "cell_type": "code",
     "collapsed": false,
     "input": [
      "import pmagplotlib\n",
      "import matplotlib.pyplot as plt\n",
      "%matplotlib inline"
     ],
     "language": "python",
     "metadata": {},
     "outputs": [],
     "prompt_number": 10
    },
    {
     "cell_type": "code",
     "collapsed": false,
     "input": [
      "# ipmag.plot_net(1) # make an equal angle net\n",
      "# figure out how to use ipmag.plot_di() and plot the points. "
     ],
     "language": "python",
     "metadata": {},
     "outputs": [],
     "prompt_number": 9
    },
    {
     "cell_type": "heading",
     "level": 3,
     "metadata": {},
     "source": [
      "Problem 3"
     ]
    },
    {
     "cell_type": "code",
     "collapsed": false,
     "input": [
      "# code it up here!"
     ],
     "language": "python",
     "metadata": {},
     "outputs": [],
     "prompt_number": 10
    },
    {
     "cell_type": "markdown",
     "metadata": {},
     "source": [
      "Let's use the pmag function dia_vgp.  First let's figure out what it does:"
     ]
    },
    {
     "cell_type": "code",
     "collapsed": false,
     "input": [
      "print pmag.dia_vgp.__doc__"
     ],
     "language": "python",
     "metadata": {},
     "outputs": [
      {
       "output_type": "stream",
       "stream": "stdout",
       "text": [
        "\n",
        "    converts declination, inclination, alpha95 to VGP, dp, dm\n",
        "    takes input as (Decs, Incs, a95, Site latitudes, Site Longitudes).  \n",
        "    These can be lists or individual values.\n",
        "    \n"
       ]
      }
     ],
     "prompt_number": 13
    },
    {
     "cell_type": "markdown",
     "metadata": {},
     "source": [
      "Now we can use it to convert our directions to VGPs. Note that alpha95 is required but is not given  so  supply a zero in its place. Note also that westward longitudes are indicated by minus signs..."
     ]
    },
    {
     "cell_type": "code",
     "collapsed": false,
     "input": [
      "# you figure it out."
     ],
     "language": "python",
     "metadata": {},
     "outputs": [],
     "prompt_number": 11
    },
    {
     "cell_type": "code",
     "collapsed": false,
     "input": [],
     "language": "python",
     "metadata": {},
     "outputs": []
    }
   ],
   "metadata": {}
  }
 ]
}