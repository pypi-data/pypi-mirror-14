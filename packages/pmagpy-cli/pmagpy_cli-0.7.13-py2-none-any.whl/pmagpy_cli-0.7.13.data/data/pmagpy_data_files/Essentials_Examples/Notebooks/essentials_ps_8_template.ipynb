{
 "metadata": {
  "name": "",
  "signature": "sha256:610b199c5bb36c627b25bff1fcf6efd1ee3583687cb1b64775de07d03aa11208"
 },
 "nbformat": 3,
 "nbformat_minor": 0,
 "worksheets": [
  {
   "cells": [
    {
     "cell_type": "heading",
     "level": 1,
     "metadata": {},
     "source": [
      "IPython Notebook for turning in solutions to the problems in the Essentials of Paleomagnetism Textbook by L. Tauxe"
     ]
    },
    {
     "cell_type": "heading",
     "level": 2,
     "metadata": {},
     "source": [
      "Problems in Chapter 8"
     ]
    },
    {
     "cell_type": "heading",
     "level": 2,
     "metadata": {},
     "source": [
      "Problem 1  "
     ]
    },
    {
     "cell_type": "markdown",
     "metadata": {},
     "source": [
      "You need to use the program curie.py, but this is a command line operation normally.  To run commands from within a notebook, you can use an exclamation point before the command.  So for example, if you want to know how to call the program,  use the -h option. You need to supply the  path to the program.  "
     ]
    },
    {
     "cell_type": "code",
     "collapsed": false,
     "input": [
      "!~/PmagPy/curie.py -f Chapter_8/curie_example.dat -h"
     ],
     "language": "python",
     "metadata": {},
     "outputs": [
      {
       "output_type": "stream",
       "stream": "stdout",
       "text": [
        "\r\n",
        "    NAME\r\n",
        "        curie.py\r\n",
        "\r\n",
        "    DESCTIPTION\r\n",
        "        plots and interprets curie temperature data.\r\n",
        "        the 1st derivative is calculated from smoothed M-T curve\r\n",
        "            (convolution with trianfular window with width= <-w> degrees)\r\n",
        "        the 2nd derivative is calculated from smoothed 1st derivative curve\r\n",
        "            ( using the same sliding window width)\r\n",
        "        the estinated curie temp. is the maximum of the 2nd derivative\r\n",
        "\r\n",
        "        - the temperature steps should be in multiples of 1.0 degrees\r\n",
        "\r\n",
        "    INPUT\r\n",
        "        T,M\r\n",
        "  \r\n",
        "    SYNTAX\r\n",
        "        curie.py [command line options]\r\n",
        "\r\n",
        "    OPTIONS\r\n",
        "        -h prints help message and quits\r\n",
        "        -f FILE, sets M,T input file (required)\r\n",
        "        -w size of sliding window in degrees (default - 3 degrees)\r\n",
        "        -t <min> <max> temperature range (optional)\r\n",
        "        -sav save figures and quit\r\n",
        "\r\n",
        "    example:\r\n",
        "    curie.py -f ex2.1 -w 30 -t 300 700\r\n",
        "\r\n",
        "    \r\n"
       ]
      }
     ],
     "prompt_number": 1
    },
    {
     "cell_type": "markdown",
     "metadata": {},
     "source": [
      "Now modify the command to just save and quit....   and the rest you are on your own.  Good luck!"
     ]
    }
   ],
   "metadata": {}
  }
 ]
}