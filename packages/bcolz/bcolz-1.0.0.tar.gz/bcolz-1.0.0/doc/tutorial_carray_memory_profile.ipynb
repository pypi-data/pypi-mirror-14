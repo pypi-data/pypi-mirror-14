{
 "cells": [
  {
   "cell_type": "markdown",
   "metadata": {},
   "source": [
    "# Carray memory profiling"
   ]
  },
  {
   "cell_type": "markdown",
   "metadata": {},
   "source": [
    "<a id='go to index'></a>\n",
    "Index:\n",
    "  1. <a href='#Profiling carray'>Profiling carray</a>\n",
    "  -  <a href='#Profiling carray iterators'>Profiling carray iterators</a>"
   ]
  },
  {
   "cell_type": "markdown",
   "metadata": {},
   "source": [
    "In this part of the tutorial we will make use of the [ipython_memwatcher](https://github.com/FrancescAlted/ipython_memwatcher) to analyze the memory usage of the carray objects compared to Numpy arrays.\n",
    "\n",
    "Please be aware that measuring memory consumption is a tricky thing, so if you are going to run this section of the notebook several times you might need to restart the IPython kernel.\n",
    "If you see weird results or get confused, quit IPython and start a fresh shell; then run the fewest commands you need to understand how RAM is being used during the process."
   ]
  },
  {
   "cell_type": "markdown",
   "metadata": {},
   "source": [
    "<a id='Profiling carray'></a>\n",
    "## Profiling carray\n",
    "<a href='#go to index'>Go to index</a>"
   ]
  },
  {
   "cell_type": "code",
   "execution_count": 1,
   "metadata": {
    "collapsed": false
   },
   "outputs": [],
   "source": [
    "from ipython_memwatcher import MemWatcher\n",
    "import numpy as np\n",
    "import bcolz\n",
    "import pandas as pd"
   ]
  },
  {
   "cell_type": "code",
   "execution_count": 2,
   "metadata": {
    "collapsed": false
   },
   "outputs": [
    {
     "name": "stdout",
     "output_type": "stream",
     "text": [
      "In [2] used 0.074 MiB RAM in 0.001s, peaked 0.000 MiB above current, total RAM usage 75.844 MiB\n"
     ]
    }
   ],
   "source": [
    "N = 1e8\n",
    "arange_results = {}\n",
    "mw = MemWatcher()\n",
    "mw.start_watching_memory()"
   ]
  },
  {
   "cell_type": "markdown",
   "metadata": {},
   "source": [
    "Let's create a couple of big objects:"
   ]
  },
  {
   "cell_type": "code",
   "execution_count": 3,
   "metadata": {
    "collapsed": false
   },
   "outputs": [
    {
     "name": "stdout",
     "output_type": "stream",
     "text": [
      "In [3] used 762.969 MiB RAM in 0.356s, peaked 0.000 MiB above current, total RAM usage 838.812 MiB\n"
     ]
    }
   ],
   "source": [
    "a = np.arange(N)"
   ]
  },
  {
   "cell_type": "code",
   "execution_count": 4,
   "metadata": {
    "collapsed": false
   },
   "outputs": [
    {
     "name": "stdout",
     "output_type": "stream",
     "text": [
      "In [4] used 0.027 MiB RAM in 0.001s, peaked 0.000 MiB above current, total RAM usage 838.840 MiB\n"
     ]
    }
   ],
   "source": [
    "# Get some measurements from the last executed cell:\n",
    "arange_results['numpy'] = mw.measurements.memory_delta"
   ]
  },
  {
   "cell_type": "code",
   "execution_count": 5,
   "metadata": {
    "collapsed": false
   },
   "outputs": [
    {
     "name": "stdout",
     "output_type": "stream",
     "text": [
      "In [5] used 25.477 MiB RAM in 0.693s, peaked 0.000 MiB above current, total RAM usage 864.316 MiB\n"
     ]
    }
   ],
   "source": [
    "b = bcolz.arange(N)"
   ]
  },
  {
   "cell_type": "code",
   "execution_count": 6,
   "metadata": {
    "collapsed": false
   },
   "outputs": [
    {
     "name": "stdout",
     "output_type": "stream",
     "text": [
      "In [6] used 0.016 MiB RAM in 0.001s, peaked 0.000 MiB above current, total RAM usage 864.332 MiB\n"
     ]
    }
   ],
   "source": [
    "# Get some measurements from the last executed cell:\n",
    "arange_results['carray in-memory'] = mw.measurements.memory_delta"
   ]
  },
  {
   "cell_type": "code",
   "execution_count": 7,
   "metadata": {
    "collapsed": false
   },
   "outputs": [
    {
     "name": "stdout",
     "output_type": "stream",
     "text": [
      "In [7] used 1.098 MiB RAM in 0.821s, peaked 0.000 MiB above current, total RAM usage 865.430 MiB\n"
     ]
    }
   ],
   "source": [
    "b_disk = bcolz.arange(N, rootdir='mydir', mode='w')"
   ]
  },
  {
   "cell_type": "code",
   "execution_count": 8,
   "metadata": {
    "collapsed": false
   },
   "outputs": [
    {
     "name": "stdout",
     "output_type": "stream",
     "text": [
      "In [8] used 0.012 MiB RAM in 0.001s, peaked 0.000 MiB above current, total RAM usage 865.441 MiB\n"
     ]
    }
   ],
   "source": [
    "# Get some measurements from the last executed cell:\n",
    "arange_results['carray on-disk'] = mw.measurements.memory_delta"
   ]
  },
  {
   "cell_type": "code",
   "execution_count": 9,
   "metadata": {
    "collapsed": false
   },
   "outputs": [
    {
     "name": "stdout",
     "output_type": "stream",
     "text": [
      "{'numpy': 762.96875, 'carray in-memory': 25.4765625, 'carray on-disk': 1.09765625}\n"
     ]
    },
    {
     "data": {
      "text/plain": [
       "<matplotlib.axes._subplots.AxesSubplot at 0x7fe10c0837d0>"
      ]
     },
     "execution_count": 9,
     "metadata": {},
     "output_type": "execute_result"
    },
    {
     "name": "stderr",
     "output_type": "stream",
     "text": [
      "/home/faltet/miniconda/lib/python2.7/site-packages/matplotlib/font_manager.py:1287: UserWarning: findfont: Font family [u'monospace'] not found. Falling back to Bitstream Vera Sans\n",
      "  (prop.get_family(), self.defaultFamily[fontext]))\n"
     ]
    },
    {
     "data": {
      "image/png": "[encoded data removed]",
      "text/plain": [
       "<matplotlib.figure.Figure at 0x7fe10c0834d0>"
      ]
     },
     "metadata": {},
     "output_type": "display_data"
    }
   ],
   "source": [
    "%matplotlib inline\n",
    "mw.stop_watching_memory()\n",
    "\n",
    "d = arange_results\n",
    "print d\n",
    "\n",
    "arange_results_df = pd.DataFrame({'MiB': arange_results.values()}, index=arange_results.keys())\n",
    "pd.options.display.mpl_style = 'default'\n",
    "arange_results_df.plot(kind='barh', figsize=(9,3), fontsize=16, title=\"arange RAM memory consumption\")"
   ]
  },
  {
   "cell_type": "markdown",
   "metadata": {},
   "source": [
    "In this example, the numpy array consumes aproximately what we would expect ~760 MB  (N items x 8bytes x 2^-20 factor MB). Due to the nature of our data set, default compression does already a pretty neat job, and the ammount of memory required by this object is much smaller, around 26 MB.\n",
    "\n",
    "But a carray on-disk consumes only 0.2 MB, in this case our data resides on-disk using RAM only to keep references to that object, therefore as you see you can store huge amounts of information while treating them as if they were in-memory, carray on-disk and in-memory support exactly the same set of operations.\n",
    "\n",
    "Compression ratios will highly depend on your data set, in case your data set would be highly random and you could not get good compression ratios, you could always use carray on disk to use as much less RAM as possible."
   ]
  },
  {
   "cell_type": "markdown",
   "metadata": {},
   "source": [
    "<a id='Profiling carray iterators'></a>\n",
    "## Profiling carray iterators\n",
    "<a href='#go to index'>Go to index</a>"
   ]
  },
  {
   "cell_type": "markdown",
   "metadata": {},
   "source": [
    "Let's have a look now at some operations we already saw in this tutorial and check how much memory they actually consume:"
   ]
  },
  {
   "cell_type": "code",
   "execution_count": 10,
   "metadata": {
    "collapsed": false
   },
   "outputs": [
    {
     "name": "stdout",
     "output_type": "stream",
     "text": [
      "In [10] used 24.121 MiB RAM in 1.692s, peaked 0.000 MiB above current, total RAM usage 889.562 MiB\n"
     ]
    }
   ],
   "source": [
    "sumif_results = {}\n",
    "mw.start_watching_memory()"
   ]
  },
  {
   "cell_type": "code",
   "execution_count": 11,
   "metadata": {
    "collapsed": false
   },
   "outputs": [
    {
     "name": "stdout",
     "output_type": "stream",
     "text": [
      "In [11] used 0.043 MiB RAM in 24.115s, peaked 0.000 MiB above current, total RAM usage 889.605 MiB\n"
     ]
    }
   ],
   "source": [
    "r = sum(v for v in a if v < 10)"
   ]
  },
  {
   "cell_type": "code",
   "execution_count": 12,
   "metadata": {
    "collapsed": false
   },
   "outputs": [
    {
     "name": "stdout",
     "output_type": "stream",
     "text": [
      "In [12] used 0.000 MiB RAM in 0.001s, peaked 0.000 MiB above current, total RAM usage 889.605 MiB\n"
     ]
    }
   ],
   "source": [
    "# Get some measurements from the last executed cell:\n",
    "sumif_results['numpy'] = mw.measurements.memory_delta"
   ]
  },
  {
   "cell_type": "code",
   "execution_count": 13,
   "metadata": {
    "collapsed": false
   },
   "outputs": [
    {
     "name": "stdout",
     "output_type": "stream",
     "text": [
      "In [13] used 0.910 MiB RAM in 8.850s, peaked 1.848 MiB above current, total RAM usage 890.516 MiB\n"
     ]
    }
   ],
   "source": [
    "r =  sum(v for v in b if v < 10)"
   ]
  },
  {
   "cell_type": "code",
   "execution_count": 14,
   "metadata": {
    "collapsed": false
   },
   "outputs": [
    {
     "name": "stdout",
     "output_type": "stream",
     "text": [
      "In [14] used 0.008 MiB RAM in 0.001s, peaked 0.000 MiB above current, total RAM usage 890.523 MiB\n"
     ]
    }
   ],
   "source": [
    "# Get some measurements from the last executed cell:\n",
    "sumif_results['carray in-memory'] = mw.measurements.memory_delta"
   ]
  },
  {
   "cell_type": "code",
   "execution_count": 15,
   "metadata": {
    "collapsed": false
   },
   "outputs": [
    {
     "name": "stdout",
     "output_type": "stream",
     "text": [
      "In [15] used -0.062 MiB RAM in 6.705s, peaked 1.875 MiB above current, total RAM usage 890.461 MiB\n"
     ]
    }
   ],
   "source": [
    "r =  sum(v for v in b_disk if v < 10)"
   ]
  },
  {
   "cell_type": "code",
   "execution_count": 16,
   "metadata": {
    "collapsed": false
   },
   "outputs": [
    {
     "name": "stdout",
     "output_type": "stream",
     "text": [
      "In [16] used 0.000 MiB RAM in 0.001s, peaked 0.000 MiB above current, total RAM usage 890.461 MiB\n"
     ]
    }
   ],
   "source": [
    "# Get some measurements from the last executed cell:\n",
    "sumif_results['carray on-disk'] = mw.measurements.memory_delta"
   ]
  },
  {
   "cell_type": "code",
   "execution_count": 17,
   "metadata": {
    "collapsed": false
   },
   "outputs": [
    {
     "name": "stdout",
     "output_type": "stream",
     "text": [
      "{'numpy': 0.04296875, 'carray in-memory': 0.91015625, 'carray on-disk': -0.0625}\n"
     ]
    },
    {
     "data": {
      "text/plain": [
       "<matplotlib.axes._subplots.AxesSubplot at 0x7fe10c042090>"
      ]
     },
     "execution_count": 17,
     "metadata": {},
     "output_type": "execute_result"
    },
    {
     "data": {
      "image/png": "[encoded data removed]",
      "text/plain": [
       "<matplotlib.figure.Figure at 0x7fe0b72d4250>"
      ]
     },
     "metadata": {},
     "output_type": "display_data"
    }
   ],
   "source": [
    "%matplotlib inline\n",
    "mw.stop_watching_memory()\n",
    "d = sumif_results\n",
    "print d\n",
    "\n",
    "sumif_df = pd.DataFrame({'MiB': d.values()}, index=d.keys())\n",
    "pd.options.display.mpl_style = 'default'\n",
    "sumif_df.plot(kind='barh', figsize=(9,3), fontsize=16, title=\"sum-if RAM memory consumption\")"
   ]
  },
  {
   "cell_type": "markdown",
   "metadata": {},
   "source": [
    "When you iterate `carray` objects, the iterator in this run actually *releases* memory for the in-memory case, whereas the on-disk one does require very little (sometimes negative?), but YMMV.\n",
    "\n",
    "Again, measuring memory consumption is a tricky thing, so the take\n",
    "away message is that you should not be afraid of using iterators because they are 1) memory efficient and 2) they are *fast*."
   ]
  },
  {
   "cell_type": "code",
   "execution_count": null,
   "metadata": {
    "collapsed": true
   },
   "outputs": [],
   "source": []
  }
 ],
 "metadata": {
  "kernelspec": {
   "display_name": "Python 2",
   "language": "python",
   "name": "python2"
  },
  "language_info": {
   "codemirror_mode": {
    "name": "ipython",
    "version": 2
   },
   "file_extension": ".py",
   "mimetype": "text/x-python",
   "name": "python",
   "nbconvert_exporter": "python",
   "pygments_lexer": "ipython2",
   "version": "2.7.11"
  }
 },
 "nbformat": 4,
 "nbformat_minor": 0
}
