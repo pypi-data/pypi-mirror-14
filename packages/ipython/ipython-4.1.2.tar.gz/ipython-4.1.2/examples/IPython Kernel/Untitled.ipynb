{
 "cells": [
  {
   "cell_type": "code",
   "execution_count": null,
   "metadata": {
    "collapsed": true
   },
   "outputs": [],
   "source": [
    "list = [\n",
    "    {\n",
    "        key: value\n",
    "    }\n",
    "]\n",
    "path = \"list[0]['key']\"\n",
    "path = \"list/0/key\"\n",
    "\n",
    "patch = [\n",
    "    {\n",
    "        'path': 'list/0/key',\n",
    "        'action': 'delete'\n",
    "    },\n",
    "]\n",
    "\n",
    "patch = [\n",
    "    {\n",
    "        'key': {\n",
    "            'action': delete'\n",
    "        }\n",
    "    }\n",
    "]"
   ]
  },
  {
   "cell_type": "code",
   "execution_count": null,
   "metadata": {
    "collapsed": true
   },
   "outputs": [],
   "source": [
    "given notebook, patch\n",
    "\n",
    "existing:\n",
    "    \n",
    "for cell in cells:\n",
    "    display(cell)\n",
    "    "
   ]
  }
 ],
 "metadata": {
  "kernelspec": {
   "display_name": "Python 3",
   "language": "python",
   "name": "python3"
  },
  "language_info": {
   "codemirror_mode": {
    "name": "ipython",
    "version": 3
   },
   "file_extension": ".py",
   "mimetype": "text/x-python",
   "name": "python",
   "nbconvert_exporter": "python",
   "pygments_lexer": "ipython3",
   "version": "3.5.1"
  }
 },
 "nbformat": 4,
 "nbformat_minor": 0
}
