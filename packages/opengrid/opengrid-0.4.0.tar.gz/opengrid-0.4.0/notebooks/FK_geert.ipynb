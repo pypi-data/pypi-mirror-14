{
 "cells": [
  {
   "cell_type": "code",
   "execution_count": 1,
   "metadata": {
    "collapsed": true
   },
   "outputs": [],
   "source": [
    "token = \"d4a07b3d7c7026261a5897172e96dbdc\"\n",
    "house = {\n",
    "    \"berging\": {\n",
    "        \"proximity\": \"58445375b3995fbb9c08d88998512371\",\n",
    "        \"humidity\": \"37a4b9e633c0333e50b5f17bc6e57282\",\n",
    "        \"battery\": \"e14638bd643d4ef9985fbfabcc86689d\",\n",
    "        \"pressure\": \"e339a77dd752d67d8dc767409861ab0c\",\n",
    "        \"movement\": \"37d2f433a1283824948ae0e6f39c24a7\",\n",
    "        \"vibration\": \"a6e1d7024484df774ba1ed6fb03ea060\",\n",
    "        \"temperature\": \"07229d57d1df1f97e91e8ac977afafc5\",\n",
    "        \"error\": \"99243a631131dab3b3bb3e9cd86d321c\",\n",
    "        \"light\": \"269afef742b7fa76c4295ef29fff3aa5\"\n",
    "        }\n",
    "    }"
   ]
  },
  {
   "cell_type": "code",
   "execution_count": 2,
   "metadata": {
    "collapsed": true
   },
   "outputs": [],
   "source": [
    "import os\n",
    "import tmpo\n",
    "\n",
    "s = tmpo.Session(path=os.getcwd())\n",
    "for room in house:\n",
    "    for sensor in house[room]:\n",
    "        s.add(house[room][sensor], token)"
   ]
  },
  {
   "cell_type": "code",
   "execution_count": 4,
   "metadata": {
    "collapsed": false
   },
   "outputs": [],
   "source": [
    "s.debug = True\n",
    "s.sync()"
   ]
  },
  {
   "cell_type": "code",
   "execution_count": 8,
   "metadata": {
    "collapsed": false
   },
   "outputs": [
    {
     "name": "stdout",
     "output_type": "stream",
     "text": [
      "[w] time:1454880405.227 sid:07229d57d1df1f97e91e8ac977afafc5 rid:0 lvl:20 bid:1453326336 size[B]:213\n"
     ]
    },
    {
     "data": {
      "text/plain": [
       "2016-02-01 10:55:17+00:00    16.66\n",
       "2016-02-01 10:56:32+00:00    17.55\n",
       "2016-02-01 10:57:46+00:00    17.11\n",
       "2016-02-01 10:59:01+00:00    16.84\n",
       "2016-02-01 11:00:16+00:00    16.80\n",
       "2016-02-01 11:01:31+00:00    16.80\n",
       "2016-02-01 11:02:46+00:00    16.75\n",
       "2016-02-01 11:04:02+00:00    16.48\n",
       "2016-02-01 11:05:15+00:00    16.30\n",
       "2016-02-01 11:06:30+00:00    16.12\n",
       "2016-02-01 11:07:45+00:00    16.03\n",
       "2016-02-01 11:09:00+00:00    15.95\n",
       "Name: 07229d57d1df1f97e91e8ac977afafc5, dtype: float64"
      ]
     },
     "execution_count": 8,
     "metadata": {},
     "output_type": "execute_result"
    }
   ],
   "source": [
    "s.series(sid=house['berging']['temperature'])"
   ]
  },
  {
   "cell_type": "code",
   "execution_count": null,
   "metadata": {
    "collapsed": true
   },
   "outputs": [],
   "source": []
  }
 ],
 "metadata": {
  "kernelspec": {
   "display_name": "Python 2",
   "language": "python",
   "name": "python2"
  },
  "language_info": {
   "codemirror_mode": {
    "name": "ipython",
    "version": 2
   },
   "file_extension": ".py",
   "mimetype": "text/x-python",
   "name": "python",
   "nbconvert_exporter": "python",
   "pygments_lexer": "ipython2",
   "version": "2.7.8"
  }
 },
 "nbformat": 4,
 "nbformat_minor": 0
}
